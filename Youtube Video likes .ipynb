{
 "cells": [
  {
   "cell_type": "code",
   "execution_count": 1,
   "metadata": {},
   "outputs": [],
   "source": [
    "import numpy as np\n",
    "import pandas as pd\n",
    "import matplotlib.pyplot as plt\n",
    "%matplotlib inline\n",
    "import seaborn as sns"
   ]
  },
  {
   "cell_type": "code",
   "execution_count": 2,
   "metadata": {},
   "outputs": [],
   "source": [
    "plt.style.use(\"seaborn-whitegrid\")"
   ]
  },
  {
   "cell_type": "code",
   "execution_count": 3,
   "metadata": {},
   "outputs": [],
   "source": [
    "from sklearn.model_selection import train_test_split,StratifiedKFold\n",
    "from sklearn.metrics import accuracy_score, f1_score\n",
    "from sklearn.model_selection import KFold\n",
    "\n",
    "from sklearn.tree import DecisionTreeRegressor\n",
    "from sklearn.ensemble import RandomForestRegressor\n",
    "from sklearn.preprocessing import StandardScaler\n",
    "\n",
    "from sklearn.linear_model import LinearRegression, ElasticNet"
   ]
  },
  {
   "cell_type": "code",
   "execution_count": 4,
   "metadata": {},
   "outputs": [
    {
     "name": "stderr",
     "output_type": "stream",
     "text": [
      "C:\\Users\\Aryan\\Anaconda3\\lib\\site-packages\\dask\\config.py:161: YAMLLoadWarning: calling yaml.load() without Loader=... is deprecated, as the default Loader is unsafe. Please read https://msg.pyyaml.org/load for full details.\n",
      "  data = yaml.load(f.read()) or {}\n",
      "C:\\Users\\Aryan\\Anaconda3\\lib\\site-packages\\dask\\dataframe\\utils.py:13: FutureWarning: pandas.util.testing is deprecated. Use the functions in the public API at pandas.testing instead.\n",
      "  import pandas.util.testing as tm\n",
      "C:\\Users\\Aryan\\Anaconda3\\lib\\site-packages\\distributed\\config.py:20: YAMLLoadWarning: calling yaml.load() without Loader=... is deprecated, as the default Loader is unsafe. Please read https://msg.pyyaml.org/load for full details.\n",
      "  defaults = yaml.load(f)\n"
     ]
    }
   ],
   "source": [
    "from lightgbm import LGBMRegressor\n",
    "from catboost import CatBoostRegressor\n",
    "from xgboost import XGBRegressor"
   ]
  },
  {
   "cell_type": "code",
   "execution_count": 5,
   "metadata": {},
   "outputs": [],
   "source": [
    "import warnings\n",
    "warnings.filterwarnings(\"ignore\")"
   ]
  },
  {
   "cell_type": "code",
   "execution_count": 6,
   "metadata": {},
   "outputs": [],
   "source": [
    "train = pd.read_csv(\"train.csv\")\n",
    "test = pd.read_csv(\"test.csv\")"
   ]
  },
  {
   "cell_type": "code",
   "execution_count": 7,
   "metadata": {},
   "outputs": [
    {
     "data": {
      "text/html": [
       "<div>\n",
       "<style scoped>\n",
       "    .dataframe tbody tr th:only-of-type {\n",
       "        vertical-align: middle;\n",
       "    }\n",
       "\n",
       "    .dataframe tbody tr th {\n",
       "        vertical-align: top;\n",
       "    }\n",
       "\n",
       "    .dataframe thead th {\n",
       "        text-align: right;\n",
       "    }\n",
       "</style>\n",
       "<table border=\"1\" class=\"dataframe\">\n",
       "  <thead>\n",
       "    <tr style=\"text-align: right;\">\n",
       "      <th></th>\n",
       "      <th>video_id</th>\n",
       "      <th>title</th>\n",
       "      <th>channel_title</th>\n",
       "      <th>category_id</th>\n",
       "      <th>publish_date</th>\n",
       "      <th>tags</th>\n",
       "      <th>views</th>\n",
       "      <th>dislikes</th>\n",
       "      <th>comment_count</th>\n",
       "      <th>description</th>\n",
       "      <th>country_code</th>\n",
       "      <th>likes</th>\n",
       "    </tr>\n",
       "  </thead>\n",
       "  <tbody>\n",
       "    <tr>\n",
       "      <th>0</th>\n",
       "      <td>53364</td>\n",
       "      <td>Alif Allah Aur Insaan Episode 34 HUM TV Drama ...</td>\n",
       "      <td>HUM TV</td>\n",
       "      <td>24.0</td>\n",
       "      <td>2017-12-12</td>\n",
       "      <td>HUM|\"TV\"|\"Alif Allah Aur Insaan\"|\"Episode 34\"|...</td>\n",
       "      <td>351430.0</td>\n",
       "      <td>298.0</td>\n",
       "      <td>900.0</td>\n",
       "      <td>Alif Allah Aur Insaan Episode 34 Full - 12 Dec...</td>\n",
       "      <td>CA</td>\n",
       "      <td>2351.0</td>\n",
       "    </tr>\n",
       "    <tr>\n",
       "      <th>1</th>\n",
       "      <td>51040</td>\n",
       "      <td>It's Showtime Miss Q &amp; A: Bela gets jealous of...</td>\n",
       "      <td>ABS-CBN Entertainment</td>\n",
       "      <td>24.0</td>\n",
       "      <td>2018-03-08</td>\n",
       "      <td>ABS-CBN Entertainment|\"ABS-CBN\"|\"ABS-CBN Onlin...</td>\n",
       "      <td>461508.0</td>\n",
       "      <td>74.0</td>\n",
       "      <td>314.0</td>\n",
       "      <td>Vice Ganda notices Bela Padilla's sudden chang...</td>\n",
       "      <td>CA</td>\n",
       "      <td>3264.0</td>\n",
       "    </tr>\n",
       "    <tr>\n",
       "      <th>2</th>\n",
       "      <td>1856</td>\n",
       "      <td>ದರ್ಶನ್ ಗೆ ಬಾರಿ ಅವಮಾನ ಮಾಡಿದ ಶಿವಣ್ಣ ನಾಯಕಿ \\n  ಕ್...</td>\n",
       "      <td>SANDALWOOD REVIEWS</td>\n",
       "      <td>24.0</td>\n",
       "      <td>2018-03-26</td>\n",
       "      <td>challenging star darshan latest news|\"challeng...</td>\n",
       "      <td>40205.0</td>\n",
       "      <td>150.0</td>\n",
       "      <td>100.0</td>\n",
       "      <td>ದರ್ಶನ್ ಗೆ ಬಾರಿ ಅವಮಾನ ಮಾಡಿದ ಶಿವಣ್ಣ ನಾಯಕಿ    ಕ್ಲ...</td>\n",
       "      <td>IN</td>\n",
       "      <td>580.0</td>\n",
       "    </tr>\n",
       "    <tr>\n",
       "      <th>3</th>\n",
       "      <td>22618</td>\n",
       "      <td>Havana - swing cover | dodie feat. FLASHBACK</td>\n",
       "      <td>doddleoddle</td>\n",
       "      <td>10.0</td>\n",
       "      <td>2018-02-21</td>\n",
       "      <td>havana|\"cover\"|\"a capella\"|\"swing\"|\"dodie\"|\"fl...</td>\n",
       "      <td>509726.0</td>\n",
       "      <td>847.0</td>\n",
       "      <td>4536.0</td>\n",
       "      <td>Hi hi hi! here's our vid on FLASHBACK's channe...</td>\n",
       "      <td>GB</td>\n",
       "      <td>82773.0</td>\n",
       "    </tr>\n",
       "    <tr>\n",
       "      <th>4</th>\n",
       "      <td>74074</td>\n",
       "      <td>MUMMY NE NI KEHTA - 2  FT. 102 NOT OUT| DUDE S...</td>\n",
       "      <td>Dude Seriously</td>\n",
       "      <td>23.0</td>\n",
       "      <td>2018-05-10</td>\n",
       "      <td>dude|\"seriously\"|\"friends\"|\"fun\"|\"gujarati\"|\"h...</td>\n",
       "      <td>74311.0</td>\n",
       "      <td>69.0</td>\n",
       "      <td>161.0</td>\n",
       "      <td>BOOK YOUR TICKETS HERE:  https://goo.gl/QxdSyg...</td>\n",
       "      <td>IN</td>\n",
       "      <td>3557.0</td>\n",
       "    </tr>\n",
       "  </tbody>\n",
       "</table>\n",
       "</div>"
      ],
      "text/plain": [
       "   video_id                                              title  \\\n",
       "0     53364  Alif Allah Aur Insaan Episode 34 HUM TV Drama ...   \n",
       "1     51040  It's Showtime Miss Q & A: Bela gets jealous of...   \n",
       "2      1856  ದರ್ಶನ್ ಗೆ ಬಾರಿ ಅವಮಾನ ಮಾಡಿದ ಶಿವಣ್ಣ ನಾಯಕಿ \\n  ಕ್...   \n",
       "3     22618       Havana - swing cover | dodie feat. FLASHBACK   \n",
       "4     74074  MUMMY NE NI KEHTA - 2  FT. 102 NOT OUT| DUDE S...   \n",
       "\n",
       "           channel_title  category_id publish_date  \\\n",
       "0                 HUM TV         24.0   2017-12-12   \n",
       "1  ABS-CBN Entertainment         24.0   2018-03-08   \n",
       "2     SANDALWOOD REVIEWS         24.0   2018-03-26   \n",
       "3            doddleoddle         10.0   2018-02-21   \n",
       "4         Dude Seriously         23.0   2018-05-10   \n",
       "\n",
       "                                                tags     views  dislikes  \\\n",
       "0  HUM|\"TV\"|\"Alif Allah Aur Insaan\"|\"Episode 34\"|...  351430.0     298.0   \n",
       "1  ABS-CBN Entertainment|\"ABS-CBN\"|\"ABS-CBN Onlin...  461508.0      74.0   \n",
       "2  challenging star darshan latest news|\"challeng...   40205.0     150.0   \n",
       "3  havana|\"cover\"|\"a capella\"|\"swing\"|\"dodie\"|\"fl...  509726.0     847.0   \n",
       "4  dude|\"seriously\"|\"friends\"|\"fun\"|\"gujarati\"|\"h...   74311.0      69.0   \n",
       "\n",
       "   comment_count                                        description  \\\n",
       "0          900.0  Alif Allah Aur Insaan Episode 34 Full - 12 Dec...   \n",
       "1          314.0  Vice Ganda notices Bela Padilla's sudden chang...   \n",
       "2          100.0  ದರ್ಶನ್ ಗೆ ಬಾರಿ ಅವಮಾನ ಮಾಡಿದ ಶಿವಣ್ಣ ನಾಯಕಿ    ಕ್ಲ...   \n",
       "3         4536.0  Hi hi hi! here's our vid on FLASHBACK's channe...   \n",
       "4          161.0  BOOK YOUR TICKETS HERE:  https://goo.gl/QxdSyg...   \n",
       "\n",
       "  country_code    likes  \n",
       "0           CA   2351.0  \n",
       "1           CA   3264.0  \n",
       "2           IN    580.0  \n",
       "3           GB  82773.0  \n",
       "4           IN   3557.0  "
      ]
     },
     "execution_count": 7,
     "metadata": {},
     "output_type": "execute_result"
    }
   ],
   "source": [
    "train.head()"
   ]
  },
  {
   "cell_type": "code",
   "execution_count": 8,
   "metadata": {},
   "outputs": [
    {
     "data": {
      "text/html": [
       "<div>\n",
       "<style scoped>\n",
       "    .dataframe tbody tr th:only-of-type {\n",
       "        vertical-align: middle;\n",
       "    }\n",
       "\n",
       "    .dataframe tbody tr th {\n",
       "        vertical-align: top;\n",
       "    }\n",
       "\n",
       "    .dataframe thead th {\n",
       "        text-align: right;\n",
       "    }\n",
       "</style>\n",
       "<table border=\"1\" class=\"dataframe\">\n",
       "  <thead>\n",
       "    <tr style=\"text-align: right;\">\n",
       "      <th></th>\n",
       "      <th>video_id</th>\n",
       "      <th>title</th>\n",
       "      <th>channel_title</th>\n",
       "      <th>category_id</th>\n",
       "      <th>publish_date</th>\n",
       "      <th>tags</th>\n",
       "      <th>views</th>\n",
       "      <th>dislikes</th>\n",
       "      <th>comment_count</th>\n",
       "      <th>description</th>\n",
       "      <th>country_code</th>\n",
       "    </tr>\n",
       "  </thead>\n",
       "  <tbody>\n",
       "    <tr>\n",
       "      <th>0</th>\n",
       "      <td>87185</td>\n",
       "      <td>జనవరి 31 గ్రహణం రోజు కొడుకులు ఉన్నవాళ్లు ఏం చే...</td>\n",
       "      <td>CHIRRAVURI FOUNDATION</td>\n",
       "      <td>22.0</td>\n",
       "      <td>2018-01-17</td>\n",
       "      <td>Chirravuri|\"Foundation\"|\"chirravuri foundation...</td>\n",
       "      <td>80793.0</td>\n",
       "      <td>54.0</td>\n",
       "      <td>79.0</td>\n",
       "      <td>8885569579...CHIRRAVURI FOUNDATION.\\n\\n☛Subsct...</td>\n",
       "      <td>IN</td>\n",
       "    </tr>\n",
       "    <tr>\n",
       "      <th>1</th>\n",
       "      <td>9431</td>\n",
       "      <td>ठाणे:'जेव्हा सत्ता बदलेल तेव्हा केस तुमच्यावरह...</td>\n",
       "      <td>VIRAL IN  INDIA</td>\n",
       "      <td>22.0</td>\n",
       "      <td>2017-11-18</td>\n",
       "      <td>Raj Thackeray|\"LIVE SPEECH\"|\"latest Speech\"|\"r...</td>\n",
       "      <td>150317.0</td>\n",
       "      <td>230.0</td>\n",
       "      <td>311.0</td>\n",
       "      <td>Don't Forget to SUBSCIRBE to our YouTube Chann...</td>\n",
       "      <td>IN</td>\n",
       "    </tr>\n",
       "    <tr>\n",
       "      <th>2</th>\n",
       "      <td>40599</td>\n",
       "      <td>Thank you, Rider Nation!</td>\n",
       "      <td>Saskatchewan Roughriders</td>\n",
       "      <td>17.0</td>\n",
       "      <td>2017-12-01</td>\n",
       "      <td>Roughriders|\"Riders\"|\"CFL\"|\"Regina\"|\"Saskatche...</td>\n",
       "      <td>6558.0</td>\n",
       "      <td>10.0</td>\n",
       "      <td>7.0</td>\n",
       "      <td>“To the devoted, the impassioned, the loyal:\\n...</td>\n",
       "      <td>CA</td>\n",
       "    </tr>\n",
       "    <tr>\n",
       "      <th>3</th>\n",
       "      <td>494</td>\n",
       "      <td>Measuring RPM with a spectrum analyzer mobile app</td>\n",
       "      <td>Matthias Wandel</td>\n",
       "      <td>26.0</td>\n",
       "      <td>2018-02-06</td>\n",
       "      <td>rpm|\"woodworking\"|\"tool speed\"|\"blade speed\"|\"...</td>\n",
       "      <td>89664.0</td>\n",
       "      <td>145.0</td>\n",
       "      <td>324.0</td>\n",
       "      <td>Using a spectrum analyzer app to analyze the s...</td>\n",
       "      <td>US</td>\n",
       "    </tr>\n",
       "    <tr>\n",
       "      <th>4</th>\n",
       "      <td>73942</td>\n",
       "      <td>Anchor Anasuya responded on Phone breaking iss...</td>\n",
       "      <td>AVA Creative thoughts</td>\n",
       "      <td>22.0</td>\n",
       "      <td>2018-02-06</td>\n",
       "      <td>anasuya responded|\"anasuya issue\"|\"anasuya bor...</td>\n",
       "      <td>53526.0</td>\n",
       "      <td>357.0</td>\n",
       "      <td>153.0</td>\n",
       "      <td>Welcome to AVA Creative thoughts Channel Subsc...</td>\n",
       "      <td>IN</td>\n",
       "    </tr>\n",
       "  </tbody>\n",
       "</table>\n",
       "</div>"
      ],
      "text/plain": [
       "   video_id                                              title  \\\n",
       "0     87185  జనవరి 31 గ్రహణం రోజు కొడుకులు ఉన్నవాళ్లు ఏం చే...   \n",
       "1      9431  ठाणे:'जेव्हा सत्ता बदलेल तेव्हा केस तुमच्यावरह...   \n",
       "2     40599                           Thank you, Rider Nation!   \n",
       "3       494  Measuring RPM with a spectrum analyzer mobile app   \n",
       "4     73942  Anchor Anasuya responded on Phone breaking iss...   \n",
       "\n",
       "              channel_title  category_id publish_date  \\\n",
       "0     CHIRRAVURI FOUNDATION         22.0   2018-01-17   \n",
       "1           VIRAL IN  INDIA         22.0   2017-11-18   \n",
       "2  Saskatchewan Roughriders         17.0   2017-12-01   \n",
       "3           Matthias Wandel         26.0   2018-02-06   \n",
       "4     AVA Creative thoughts         22.0   2018-02-06   \n",
       "\n",
       "                                                tags     views  dislikes  \\\n",
       "0  Chirravuri|\"Foundation\"|\"chirravuri foundation...   80793.0      54.0   \n",
       "1  Raj Thackeray|\"LIVE SPEECH\"|\"latest Speech\"|\"r...  150317.0     230.0   \n",
       "2  Roughriders|\"Riders\"|\"CFL\"|\"Regina\"|\"Saskatche...    6558.0      10.0   \n",
       "3  rpm|\"woodworking\"|\"tool speed\"|\"blade speed\"|\"...   89664.0     145.0   \n",
       "4  anasuya responded|\"anasuya issue\"|\"anasuya bor...   53526.0     357.0   \n",
       "\n",
       "   comment_count                                        description  \\\n",
       "0           79.0  8885569579...CHIRRAVURI FOUNDATION.\\n\\n☛Subsct...   \n",
       "1          311.0  Don't Forget to SUBSCIRBE to our YouTube Chann...   \n",
       "2            7.0  “To the devoted, the impassioned, the loyal:\\n...   \n",
       "3          324.0  Using a spectrum analyzer app to analyze the s...   \n",
       "4          153.0  Welcome to AVA Creative thoughts Channel Subsc...   \n",
       "\n",
       "  country_code  \n",
       "0           IN  \n",
       "1           IN  \n",
       "2           CA  \n",
       "3           US  \n",
       "4           IN  "
      ]
     },
     "execution_count": 8,
     "metadata": {},
     "output_type": "execute_result"
    }
   ],
   "source": [
    "test.head()"
   ]
  },
  {
   "cell_type": "code",
   "execution_count": 9,
   "metadata": {},
   "outputs": [
    {
     "name": "stdout",
     "output_type": "stream",
     "text": [
      "(26061, 12)\n",
      "(11170, 11)\n"
     ]
    }
   ],
   "source": [
    "print(train.shape)\n",
    "print(test.shape)"
   ]
  },
  {
   "cell_type": "code",
   "execution_count": 10,
   "metadata": {},
   "outputs": [],
   "source": [
    "ID_COL,TARGET_COL=\"video_id\",\"likes\""
   ]
  },
  {
   "cell_type": "code",
   "execution_count": 11,
   "metadata": {},
   "outputs": [
    {
     "name": "stdout",
     "output_type": "stream",
     "text": [
      "<class 'pandas.core.frame.DataFrame'>\n",
      "RangeIndex: 26061 entries, 0 to 26060\n",
      "Data columns (total 12 columns):\n",
      " #   Column         Non-Null Count  Dtype  \n",
      "---  ------         --------------  -----  \n",
      " 0   video_id       26061 non-null  int64  \n",
      " 1   title          26061 non-null  object \n",
      " 2   channel_title  26061 non-null  object \n",
      " 3   category_id    26061 non-null  float64\n",
      " 4   publish_date   26061 non-null  object \n",
      " 5   tags           26061 non-null  object \n",
      " 6   views          26061 non-null  float64\n",
      " 7   dislikes       26061 non-null  float64\n",
      " 8   comment_count  26061 non-null  float64\n",
      " 9   description    26061 non-null  object \n",
      " 10  country_code   26061 non-null  object \n",
      " 11  likes          26061 non-null  float64\n",
      "dtypes: float64(5), int64(1), object(6)\n",
      "memory usage: 2.4+ MB\n"
     ]
    }
   ],
   "source": [
    "train.info()"
   ]
  },
  {
   "cell_type": "code",
   "execution_count": 12,
   "metadata": {},
   "outputs": [
    {
     "data": {
      "text/plain": [
       "Index(['video_id', 'title', 'channel_title', 'category_id', 'publish_date',\n",
       "       'tags', 'views', 'dislikes', 'comment_count', 'description',\n",
       "       'country_code', 'likes'],\n",
       "      dtype='object')"
      ]
     },
     "execution_count": 12,
     "metadata": {},
     "output_type": "execute_result"
    }
   ],
   "source": [
    "train.columns"
   ]
  },
  {
   "cell_type": "code",
   "execution_count": 13,
   "metadata": {},
   "outputs": [],
   "source": [
    "num_cols = [\"views\",\"dislikes\",\"comment_count\"]\n",
    "cat_cols = [\"category_id\",\"country_code\"]\n",
    "text_cols = [\"title\",\"channel_title\",\"tags\",\"description\"]\n",
    "date_cols = [\"publish_date\"]"
   ]
  },
  {
   "cell_type": "code",
   "execution_count": 14,
   "metadata": {},
   "outputs": [],
   "source": [
    "dataframe = pd.concat([train,test]).reset_index(drop=True)"
   ]
  },
  {
   "cell_type": "code",
   "execution_count": 15,
   "metadata": {},
   "outputs": [
    {
     "data": {
      "text/plain": [
       "(37231, 12)"
      ]
     },
     "execution_count": 15,
     "metadata": {},
     "output_type": "execute_result"
    }
   ],
   "source": [
    "dataframe.shape"
   ]
  },
  {
   "cell_type": "code",
   "execution_count": 16,
   "metadata": {},
   "outputs": [
    {
     "data": {
      "text/plain": [
       "video_id             0\n",
       "title                0\n",
       "channel_title        0\n",
       "category_id          0\n",
       "publish_date         0\n",
       "tags                 0\n",
       "views                0\n",
       "dislikes             0\n",
       "comment_count        0\n",
       "description          0\n",
       "country_code         0\n",
       "likes            11170\n",
       "dtype: int64"
      ]
     },
     "execution_count": 16,
     "metadata": {},
     "output_type": "execute_result"
    }
   ],
   "source": [
    "dataframe.isnull().sum()"
   ]
  },
  {
   "cell_type": "code",
   "execution_count": 17,
   "metadata": {},
   "outputs": [
    {
     "data": {
      "text/html": [
       "<div>\n",
       "<style scoped>\n",
       "    .dataframe tbody tr th:only-of-type {\n",
       "        vertical-align: middle;\n",
       "    }\n",
       "\n",
       "    .dataframe tbody tr th {\n",
       "        vertical-align: top;\n",
       "    }\n",
       "\n",
       "    .dataframe thead th {\n",
       "        text-align: right;\n",
       "    }\n",
       "</style>\n",
       "<table border=\"1\" class=\"dataframe\">\n",
       "  <thead>\n",
       "    <tr style=\"text-align: right;\">\n",
       "      <th></th>\n",
       "      <th>video_id</th>\n",
       "      <th>title</th>\n",
       "      <th>channel_title</th>\n",
       "      <th>category_id</th>\n",
       "      <th>publish_date</th>\n",
       "      <th>tags</th>\n",
       "      <th>views</th>\n",
       "      <th>dislikes</th>\n",
       "      <th>comment_count</th>\n",
       "      <th>description</th>\n",
       "      <th>country_code</th>\n",
       "      <th>likes</th>\n",
       "    </tr>\n",
       "  </thead>\n",
       "  <tbody>\n",
       "    <tr>\n",
       "      <th>37230</th>\n",
       "      <td>6514</td>\n",
       "      <td>They Are Doing Things That Should Truly Scare You</td>\n",
       "      <td>Amplex</td>\n",
       "      <td>24.0</td>\n",
       "      <td>2018-03-08</td>\n",
       "      <td>educational|\"secrets\"|\"hidden\"|\"truth\"|\"myster...</td>\n",
       "      <td>148070.0</td>\n",
       "      <td>188.0</td>\n",
       "      <td>935.0</td>\n",
       "      <td>➨Check Out our Online Store: https://amplex-li...</td>\n",
       "      <td>CA</td>\n",
       "      <td>NaN</td>\n",
       "    </tr>\n",
       "  </tbody>\n",
       "</table>\n",
       "</div>"
      ],
      "text/plain": [
       "       video_id                                              title  \\\n",
       "37230      6514  They Are Doing Things That Should Truly Scare You   \n",
       "\n",
       "      channel_title  category_id publish_date  \\\n",
       "37230        Amplex         24.0   2018-03-08   \n",
       "\n",
       "                                                    tags     views  dislikes  \\\n",
       "37230  educational|\"secrets\"|\"hidden\"|\"truth\"|\"myster...  148070.0     188.0   \n",
       "\n",
       "       comment_count                                        description  \\\n",
       "37230          935.0  ➨Check Out our Online Store: https://amplex-li...   \n",
       "\n",
       "      country_code  likes  \n",
       "37230           CA    NaN  "
      ]
     },
     "execution_count": 17,
     "metadata": {},
     "output_type": "execute_result"
    }
   ],
   "source": [
    "dataframe.tail(1)"
   ]
  },
  {
   "cell_type": "code",
   "execution_count": 18,
   "metadata": {},
   "outputs": [],
   "source": [
    "dataframe = pd.get_dummies(dataframe,columns=cat_cols)"
   ]
  },
  {
   "cell_type": "code",
   "execution_count": 19,
   "metadata": {},
   "outputs": [
    {
     "data": {
      "text/plain": [
       "(37231, 31)"
      ]
     },
     "execution_count": 19,
     "metadata": {},
     "output_type": "execute_result"
    }
   ],
   "source": [
    "dataframe.shape"
   ]
  },
  {
   "cell_type": "code",
   "execution_count": 20,
   "metadata": {},
   "outputs": [
    {
     "data": {
      "text/html": [
       "<div>\n",
       "<style scoped>\n",
       "    .dataframe tbody tr th:only-of-type {\n",
       "        vertical-align: middle;\n",
       "    }\n",
       "\n",
       "    .dataframe tbody tr th {\n",
       "        vertical-align: top;\n",
       "    }\n",
       "\n",
       "    .dataframe thead th {\n",
       "        text-align: right;\n",
       "    }\n",
       "</style>\n",
       "<table border=\"1\" class=\"dataframe\">\n",
       "  <thead>\n",
       "    <tr style=\"text-align: right;\">\n",
       "      <th></th>\n",
       "      <th>video_id</th>\n",
       "      <th>title</th>\n",
       "      <th>channel_title</th>\n",
       "      <th>publish_date</th>\n",
       "      <th>tags</th>\n",
       "      <th>views</th>\n",
       "      <th>dislikes</th>\n",
       "      <th>comment_count</th>\n",
       "      <th>description</th>\n",
       "      <th>likes</th>\n",
       "      <th>...</th>\n",
       "      <th>category_id_26.0</th>\n",
       "      <th>category_id_27.0</th>\n",
       "      <th>category_id_28.0</th>\n",
       "      <th>category_id_29.0</th>\n",
       "      <th>category_id_30.0</th>\n",
       "      <th>category_id_43.0</th>\n",
       "      <th>country_code_CA</th>\n",
       "      <th>country_code_GB</th>\n",
       "      <th>country_code_IN</th>\n",
       "      <th>country_code_US</th>\n",
       "    </tr>\n",
       "  </thead>\n",
       "  <tbody>\n",
       "    <tr>\n",
       "      <th>0</th>\n",
       "      <td>53364</td>\n",
       "      <td>Alif Allah Aur Insaan Episode 34 HUM TV Drama ...</td>\n",
       "      <td>HUM TV</td>\n",
       "      <td>2017-12-12</td>\n",
       "      <td>HUM|\"TV\"|\"Alif Allah Aur Insaan\"|\"Episode 34\"|...</td>\n",
       "      <td>351430.0</td>\n",
       "      <td>298.0</td>\n",
       "      <td>900.0</td>\n",
       "      <td>Alif Allah Aur Insaan Episode 34 Full - 12 Dec...</td>\n",
       "      <td>2351.0</td>\n",
       "      <td>...</td>\n",
       "      <td>0</td>\n",
       "      <td>0</td>\n",
       "      <td>0</td>\n",
       "      <td>0</td>\n",
       "      <td>0</td>\n",
       "      <td>0</td>\n",
       "      <td>1</td>\n",
       "      <td>0</td>\n",
       "      <td>0</td>\n",
       "      <td>0</td>\n",
       "    </tr>\n",
       "  </tbody>\n",
       "</table>\n",
       "<p>1 rows × 31 columns</p>\n",
       "</div>"
      ],
      "text/plain": [
       "   video_id                                              title channel_title  \\\n",
       "0     53364  Alif Allah Aur Insaan Episode 34 HUM TV Drama ...        HUM TV   \n",
       "\n",
       "  publish_date                                               tags     views  \\\n",
       "0   2017-12-12  HUM|\"TV\"|\"Alif Allah Aur Insaan\"|\"Episode 34\"|...  351430.0   \n",
       "\n",
       "   dislikes  comment_count                                        description  \\\n",
       "0     298.0          900.0  Alif Allah Aur Insaan Episode 34 Full - 12 Dec...   \n",
       "\n",
       "    likes  ...  category_id_26.0  category_id_27.0  category_id_28.0  \\\n",
       "0  2351.0  ...                 0                 0                 0   \n",
       "\n",
       "   category_id_29.0  category_id_30.0  category_id_43.0  country_code_CA  \\\n",
       "0                 0                 0                 0                1   \n",
       "\n",
       "   country_code_GB  country_code_IN  country_code_US  \n",
       "0                0                0                0  \n",
       "\n",
       "[1 rows x 31 columns]"
      ]
     },
     "execution_count": 20,
     "metadata": {},
     "output_type": "execute_result"
    }
   ],
   "source": [
    "dataframe.head(1)"
   ]
  },
  {
   "cell_type": "code",
   "execution_count": 21,
   "metadata": {},
   "outputs": [
    {
     "data": {
      "text/plain": [
       "0"
      ]
     },
     "execution_count": 21,
     "metadata": {},
     "output_type": "execute_result"
    }
   ],
   "source": [
    "dataframe=dataframe.fillna(0)\n",
    "dataframe.isnull().sum().sum()"
   ]
  },
  {
   "cell_type": "code",
   "execution_count": 22,
   "metadata": {},
   "outputs": [],
   "source": [
    "for i in num_cols:\n",
    "    dataframe[i] = np.log1p(dataframe[i])"
   ]
  },
  {
   "cell_type": "code",
   "execution_count": 23,
   "metadata": {},
   "outputs": [],
   "source": [
    "dataframe[\"likes\"] = np.log1p(dataframe[\"likes\"])"
   ]
  },
  {
   "cell_type": "code",
   "execution_count": 24,
   "metadata": {},
   "outputs": [],
   "source": [
    "train_proc,test_proc = dataframe[:train.shape[0]],dataframe[train.shape[0]:].reset_index(drop=True)"
   ]
  },
  {
   "cell_type": "code",
   "execution_count": 25,
   "metadata": {},
   "outputs": [],
   "source": [
    "features = [c for c in dataframe.columns if c not in [ID_COL,TARGET_COL]]"
   ]
  },
  {
   "cell_type": "code",
   "execution_count": 26,
   "metadata": {},
   "outputs": [],
   "source": [
    "trn,val = train_test_split(train_proc,test_size=0.2,random_state = 1)"
   ]
  },
  {
   "cell_type": "code",
   "execution_count": 27,
   "metadata": {},
   "outputs": [],
   "source": [
    "x_trn,x_val = trn[features],val[features]\n",
    "y_trn,y_val = trn[TARGET_COL],val[TARGET_COL]\n",
    "x_test = test_proc[features]"
   ]
  },
  {
   "cell_type": "code",
   "execution_count": 28,
   "metadata": {},
   "outputs": [],
   "source": [
    "from sklearn.metrics import mean_squared_error, mean_squared_log_error\n",
    "\n",
    "def rmsle(y_true,y_pred):\n",
    "    return np.sqrt(mean_squared_log_error(y_true,y_pred))\n",
    "def av_metric(y_true,y_pred):\n",
    "    return 1000*np.sqrt(mean_squared_error(y_true,y_pred))"
   ]
  },
  {
   "cell_type": "markdown",
   "metadata": {},
   "source": [
    "Only numerical columns"
   ]
  },
  {
   "cell_type": "code",
   "execution_count": 29,
   "metadata": {},
   "outputs": [
    {
     "name": "stdout",
     "output_type": "stream",
     "text": [
      "The av metric score is 949.5701548787257\n"
     ]
    }
   ],
   "source": [
    "clf = LinearRegression()\n",
    "_ = clf.fit(x_trn[num_cols],y_trn)\n",
    "pred_val = clf.predict(x_val[num_cols])\n",
    "av_metric_score = av_metric(y_val,pred_val)\n",
    "print(f\"The av metric score is {av_metric_score}\")"
   ]
  },
  {
   "cell_type": "markdown",
   "metadata": {},
   "source": [
    "Numerical + category columns"
   ]
  },
  {
   "cell_type": "code",
   "execution_count": 30,
   "metadata": {},
   "outputs": [
    {
     "data": {
      "text/plain": [
       "Index(['title', 'channel_title', 'publish_date', 'tags', 'views', 'dislikes',\n",
       "       'comment_count', 'description', 'category_id_1.0', 'category_id_2.0',\n",
       "       'category_id_10.0', 'category_id_15.0', 'category_id_17.0',\n",
       "       'category_id_19.0', 'category_id_20.0', 'category_id_22.0',\n",
       "       'category_id_23.0', 'category_id_24.0', 'category_id_25.0',\n",
       "       'category_id_26.0', 'category_id_27.0', 'category_id_28.0',\n",
       "       'category_id_29.0', 'category_id_30.0', 'category_id_43.0',\n",
       "       'country_code_CA', 'country_code_GB', 'country_code_IN',\n",
       "       'country_code_US'],\n",
       "      dtype='object')"
      ]
     },
     "execution_count": 30,
     "metadata": {},
     "output_type": "execute_result"
    }
   ],
   "source": [
    "x_trn.columns"
   ]
  },
  {
   "cell_type": "code",
   "execution_count": 31,
   "metadata": {},
   "outputs": [],
   "source": [
    "features = [c for c in x_trn if c not in [ID_COL,TARGET_COL]]\n",
    "cat_num_cols = [c for c in x_trn if c not in text_cols + date_cols]"
   ]
  },
  {
   "cell_type": "code",
   "execution_count": 32,
   "metadata": {},
   "outputs": [
    {
     "name": "stdout",
     "output_type": "stream",
     "text": [
      "The av metric score is 873.0627392234118\n"
     ]
    }
   ],
   "source": [
    "clf = LinearRegression()\n",
    "_ = clf.fit(x_trn[cat_num_cols],y_trn)\n",
    "pred_val = clf.predict(x_val[cat_num_cols])\n",
    "av_metric_score = av_metric(y_val,pred_val)\n",
    "print(f\"The av metric score is {av_metric_score}\")"
   ]
  },
  {
   "cell_type": "code",
   "execution_count": 33,
   "metadata": {
    "scrolled": true
   },
   "outputs": [
    {
     "data": {
      "text/plain": [
       "{'min_samples_split': 30,\n",
       " 'max_leaf_nodes': 128,\n",
       " 'max_features': 0.8,\n",
       " 'max_depth': 12}"
      ]
     },
     "execution_count": 33,
     "metadata": {},
     "output_type": "execute_result"
    }
   ],
   "source": [
    "from sklearn.model_selection import RandomizedSearchCV\n",
    "\n",
    "max_depth =[4,6,8,10,12]\n",
    "min_samples_split =[2,10,20,30,40]\n",
    "max_features = [0.2,0.4,0.6,0.8,1]\n",
    "max_leaf_nodes =[8,16,32,64,128]\n",
    "\n",
    "params = dict(max_depth=max_depth,min_samples_split=min_samples_split,max_features=max_features,max_leaf_nodes=max_leaf_nodes)\n",
    "\n",
    "clf = RandomizedSearchCV(estimator= DecisionTreeRegressor(),\n",
    "                        param_distributions=params,\n",
    "                        scoring = \"neg_root_mean_squared_error\",\n",
    "                        random_state = 1,\n",
    "                        n_iter = 20)\n",
    "\n",
    "search = clf.fit(train_proc[cat_num_cols],train_proc[TARGET_COL])\n",
    "\n",
    "search.best_params_"
   ]
  },
  {
   "cell_type": "code",
   "execution_count": 34,
   "metadata": {},
   "outputs": [
    {
     "name": "stdout",
     "output_type": "stream",
     "text": [
      "The av metric score is 775.950833783305\n"
     ]
    }
   ],
   "source": [
    "best_param = {'min_samples_split': 30,\n",
    " 'max_leaf_nodes': 128,\n",
    " 'max_features': 0.8,\n",
    " 'max_depth': 12}\n",
    "\n",
    "clf = DecisionTreeRegressor(**best_param)\n",
    "_ = clf.fit(x_trn[cat_num_cols],y_trn)\n",
    "pred_val = clf.predict(x_val[cat_num_cols])\n",
    "av_metric_score = av_metric(y_val,pred_val)\n",
    "print(f\"The av metric score is {av_metric_score}\")"
   ]
  },
  {
   "cell_type": "markdown",
   "metadata": {},
   "source": [
    "Stratified K FOLD"
   ]
  },
  {
   "cell_type": "code",
   "execution_count": 35,
   "metadata": {},
   "outputs": [],
   "source": [
    "from sklearn.model_selection import StratifiedKFold"
   ]
  },
  {
   "cell_type": "code",
   "execution_count": 36,
   "metadata": {},
   "outputs": [],
   "source": [
    "def run_kfold(clf,train,test,features):\n",
    "    N_SPLITS = 5\n",
    "    \n",
    "    oofs = np.zeros(len(train)) #out of folds\n",
    "    preds = np.zeros(len(test)) #prediction\n",
    "    \n",
    "    target = train[TARGET_COL]\n",
    "    \n",
    "    folds = StratifiedKFold(n_splits=N_SPLITS)\n",
    "    stratified_target = pd.qcut(train[TARGET_COL],10,labels=False,duplicates=\"drop\")\n",
    "    \n",
    "    for fold_, (trn_idx,val_idx) in enumerate(folds.split(train,stratified_target)):\n",
    "        print(f\"\\n------------------ Fold {fold_ +1}-------------------\")\n",
    "        \n",
    "        ############ Get train,test and validation sets along with target#################\n",
    "        \n",
    "        ### Training Set\n",
    "        x_trn, y_trn = train[features].iloc[trn_idx] ,target.iloc[trn_idx]\n",
    "        \n",
    "        ### Validation Set\n",
    "        x_val ,y_val = train[features].iloc[val_idx], target.iloc[val_idx]\n",
    "        \n",
    "        ### Test Set\n",
    "        x_test = test[features]\n",
    "        \n",
    "        ########## Scaling Data ##############\n",
    "        scaler = StandardScaler()\n",
    "        _ = scaler.fit(x_trn)\n",
    "        \n",
    "        x_trn = scaler.transform(x_trn)\n",
    "        x_val = scaler.transform(x_val)\n",
    "        x_test = scaler.transform(x_test)\n",
    "        \n",
    "        ############## Fitting and Predicting ##################\n",
    "        _ = clf.fit(x_trn,y_trn)\n",
    "        \n",
    "        ### Instead of directly predicting the classes we will obtain the probability of the positive class\n",
    "        preds_val = clf.predict(x_val)\n",
    "        preds_test = clf.predict(x_test)\n",
    "        \n",
    "        folds_score = av_metric(y_val,preds_val)\n",
    "        print(f\"\\nAV metric score for the validation set is {folds_score}\")\n",
    "        \n",
    "        oofs[val_idx] = preds_val\n",
    "        preds += preds_test/N_SPLITS\n",
    "        \n",
    "    oofs_score = av_metric(target,oofs)\n",
    "    print(f\"\\nAv metric score for oofs is {oofs_score}\")\n",
    "        \n",
    "    return oofs,preds        "
   ]
  },
  {
   "cell_type": "markdown",
   "metadata": {},
   "source": [
    "SKFolds on Decision tree"
   ]
  },
  {
   "cell_type": "code",
   "execution_count": 37,
   "metadata": {},
   "outputs": [
    {
     "name": "stdout",
     "output_type": "stream",
     "text": [
      "\n",
      "------------------ Fold 1-------------------\n",
      "\n",
      "AV metric score for the validation set is 753.615155838875\n",
      "\n",
      "------------------ Fold 2-------------------\n",
      "\n",
      "AV metric score for the validation set is 772.4198633631812\n",
      "\n",
      "------------------ Fold 3-------------------\n",
      "\n",
      "AV metric score for the validation set is 756.7837306807289\n",
      "\n",
      "------------------ Fold 4-------------------\n",
      "\n",
      "AV metric score for the validation set is 772.1794247956065\n",
      "\n",
      "------------------ Fold 5-------------------\n",
      "\n",
      "AV metric score for the validation set is 752.9029270077011\n",
      "\n",
      "Av metric score for oofs is 761.6313300465082\n"
     ]
    }
   ],
   "source": [
    "dt_params = {'min_samples_split': 30,\n",
    " 'max_leaf_nodes': 128,\n",
    " 'max_features': 0.8,\n",
    " 'max_depth': 12}\n",
    "\n",
    "clf = DecisionTreeRegressor(**dt_params)\n",
    "\n",
    "dt_oofs,dt_preds = run_kfold(clf,train_proc,test_proc,cat_num_cols)"
   ]
  },
  {
   "cell_type": "markdown",
   "metadata": {},
   "source": [
    "## Gradient Boosting"
   ]
  },
  {
   "cell_type": "code",
   "execution_count": 38,
   "metadata": {},
   "outputs": [
    {
     "name": "stdout",
     "output_type": "stream",
     "text": [
      "\n",
      "------------------ Fold 1-------------------\n",
      "\n",
      "AV metric score for the validation set is 674.7737515393275\n",
      "\n",
      "------------------ Fold 2-------------------\n",
      "\n",
      "AV metric score for the validation set is 678.3212622895253\n",
      "\n",
      "------------------ Fold 3-------------------\n",
      "\n",
      "AV metric score for the validation set is 669.5119539218649\n",
      "\n",
      "------------------ Fold 4-------------------\n",
      "\n",
      "AV metric score for the validation set is 665.6236530707358\n",
      "\n",
      "------------------ Fold 5-------------------\n",
      "\n",
      "AV metric score for the validation set is 671.8950668383243\n",
      "\n",
      "Av metric score for oofs is 672.0393057033824\n"
     ]
    }
   ],
   "source": [
    "clf =LGBMRegressor()\n",
    "lgbm_oofs,lgbm_preds = run_kfold(clf,train_proc,test_proc,cat_num_cols)"
   ]
  },
  {
   "cell_type": "markdown",
   "metadata": {},
   "source": [
    "Tuning LGBM\n",
    "\n",
    "Early Stopping = When the model starts to overfit"
   ]
  },
  {
   "cell_type": "code",
   "execution_count": 39,
   "metadata": {},
   "outputs": [],
   "source": [
    "def run_gradient_boosting(clf,fit_params,train,test,features):\n",
    "    N_SPLITS = 5\n",
    "    \n",
    "    oofs = np.zeros(len(train)) #out of folds\n",
    "    preds = np.zeros(len(test)) #prediction\n",
    "    \n",
    "    target = train[TARGET_COL]\n",
    "    \n",
    "    folds = StratifiedKFold(n_splits=N_SPLITS)\n",
    "    stratified_target = pd.qcut(train[TARGET_COL],10,labels=False,duplicates=\"drop\")\n",
    "    \n",
    "    feature_importances = pd.DataFrame()\n",
    "    \n",
    "    for fold_, (trn_idx,val_idx) in enumerate(folds.split(train,stratified_target)):\n",
    "        print(f\"\\n------------------ Fold {fold_ +1}-------------------\")\n",
    "        \n",
    "        ############ Get train,test and validation sets along with target#################\n",
    "        \n",
    "        ### Training Set\n",
    "        x_trn, y_trn = train[features].iloc[trn_idx] ,target.iloc[trn_idx]\n",
    "        \n",
    "        ### Validation Set\n",
    "        x_val ,y_val = train[features].iloc[val_idx], target.iloc[val_idx]\n",
    "        \n",
    "        ### Test Set\n",
    "        x_test = test[features]\n",
    "        \n",
    "        ########## Scaling Data ##############\n",
    "        scaler = StandardScaler()\n",
    "        _ = scaler.fit(x_trn)\n",
    "        \n",
    "        x_trn = scaler.transform(x_trn)\n",
    "        x_val = scaler.transform(x_val)\n",
    "        x_test = scaler.transform(x_test)\n",
    "        \n",
    "        ############## Fitting and Predicting ##################\n",
    "        _ = clf.fit(x_trn,y_trn,eval_set=[(x_val,y_val)],**fit_params)\n",
    "        \n",
    "        fold_importance = pd.DataFrame({\"fold\":fold_+1,\"feature\":features,\"importance\":clf.feature_importances_})\n",
    "        feature_importances = pd.concat([feature_importances,fold_importance],axis=0)\n",
    "        \n",
    "         ### Instead of directly predicting the classes we will obtain the probability of the positive class\n",
    "        preds_val = clf.predict(x_val)\n",
    "        preds_test = clf.predict(x_test)\n",
    "        \n",
    "        folds_score = av_metric(y_val,preds_val)\n",
    "        print(f\"\\nAV metric score for the validation set is {folds_score}\")\n",
    "        \n",
    "        oofs[val_idx] = preds_val\n",
    "        preds += preds_test/N_SPLITS\n",
    "        \n",
    "    \n",
    "    oofs_score = av_metric(target,oofs)\n",
    "    print(f\"\\nAv metric score for oofs is {oofs_score}\")\n",
    "    \n",
    "    feature_importances = feature_importances.reset_index(drop=True)\n",
    "    fi = feature_importances.groupby('feature')['importance'].mean().sort_values(ascending = False)[:20][::-1]\n",
    "    fi.plot(kind=\"barh\",figsize=(12,6))\n",
    "    \n",
    "    return oofs,preds,fi "
   ]
  },
  {
   "cell_type": "markdown",
   "metadata": {},
   "source": [
    "### Manual Choosing hyperparameters to tune"
   ]
  },
  {
   "cell_type": "code",
   "execution_count": 40,
   "metadata": {
    "scrolled": true
   },
   "outputs": [
    {
     "name": "stdout",
     "output_type": "stream",
     "text": [
      "\n",
      "------------------ Fold 1-------------------\n",
      "Training until validation scores don't improve for 100 rounds\n",
      "[100]\tvalid_0's rmse: 0.689012\n",
      "[200]\tvalid_0's rmse: 0.673496\n",
      "[300]\tvalid_0's rmse: 0.669602\n",
      "[400]\tvalid_0's rmse: 0.667763\n",
      "[500]\tvalid_0's rmse: 0.667732\n",
      "Early stopping, best iteration is:\n",
      "[460]\tvalid_0's rmse: 0.667454\n",
      "\n",
      "AV metric score for the validation set is 667.4538134912941\n",
      "\n",
      "------------------ Fold 2-------------------\n",
      "Training until validation scores don't improve for 100 rounds\n",
      "[100]\tvalid_0's rmse: 0.691011\n",
      "[200]\tvalid_0's rmse: 0.678758\n",
      "[300]\tvalid_0's rmse: 0.674225\n",
      "[400]\tvalid_0's rmse: 0.672558\n",
      "[500]\tvalid_0's rmse: 0.672608\n",
      "[600]\tvalid_0's rmse: 0.672235\n",
      "Early stopping, best iteration is:\n",
      "[595]\tvalid_0's rmse: 0.672169\n",
      "\n",
      "AV metric score for the validation set is 672.169346394486\n",
      "\n",
      "------------------ Fold 3-------------------\n",
      "Training until validation scores don't improve for 100 rounds\n",
      "[100]\tvalid_0's rmse: 0.683225\n",
      "[200]\tvalid_0's rmse: 0.670234\n",
      "[300]\tvalid_0's rmse: 0.666839\n",
      "[400]\tvalid_0's rmse: 0.666514\n",
      "Early stopping, best iteration is:\n",
      "[347]\tvalid_0's rmse: 0.666095\n",
      "\n",
      "AV metric score for the validation set is 666.09475373063\n",
      "\n",
      "------------------ Fold 4-------------------\n",
      "Training until validation scores don't improve for 100 rounds\n",
      "[100]\tvalid_0's rmse: 0.679007\n",
      "[200]\tvalid_0's rmse: 0.666422\n",
      "[300]\tvalid_0's rmse: 0.662429\n",
      "[400]\tvalid_0's rmse: 0.661468\n",
      "[500]\tvalid_0's rmse: 0.661455\n",
      "[600]\tvalid_0's rmse: 0.661064\n",
      "[700]\tvalid_0's rmse: 0.661736\n",
      "Early stopping, best iteration is:\n",
      "[601]\tvalid_0's rmse: 0.661045\n",
      "\n",
      "AV metric score for the validation set is 661.0453776709171\n",
      "\n",
      "------------------ Fold 5-------------------\n",
      "Training until validation scores don't improve for 100 rounds\n",
      "[100]\tvalid_0's rmse: 0.684471\n",
      "[200]\tvalid_0's rmse: 0.672464\n",
      "[300]\tvalid_0's rmse: 0.670479\n",
      "[400]\tvalid_0's rmse: 0.670053\n",
      "[500]\tvalid_0's rmse: 0.669419\n",
      "Early stopping, best iteration is:\n",
      "[479]\tvalid_0's rmse: 0.669246\n",
      "\n",
      "AV metric score for the validation set is 669.2459166681238\n",
      "\n",
      "Av metric score for oofs is 667.2120494341872\n"
     ]
    },
    {
     "data": {
      "image/png": "[encoded data removed]",
      "text/plain": [
       "<Figure size 864x432 with 1 Axes>"
      ]
     },
     "metadata": {},
     "output_type": "display_data"
    }
   ],
   "source": [
    "clf = LGBMRegressor(n_estimators=1000,\n",
    "                   learning_rate=0.05,\n",
    "                   colsample_bytree=0.76, # each tree will run on these percentage of features\n",
    "                   metric=\"None\",\n",
    "                   )\n",
    "\n",
    "fit_params = {\"verbose\":100,\"early_stopping_rounds\":100,\"eval_metric\":\"rmse\"}\n",
    "\n",
    "lgb_oofs,lgb_preds,lgb_fi = run_gradient_boosting(clf,fit_params,train_proc,test_proc,cat_num_cols)"
   ]
  },
  {
   "cell_type": "code",
   "execution_count": 41,
   "metadata": {
    "scrolled": true
   },
   "outputs": [
    {
     "name": "stdout",
     "output_type": "stream",
     "text": [
      "\n",
      "------------------ Fold 1-------------------\n",
      "Training until validation scores don't improve for 200 rounds\n",
      "[300]\tvalid_0's rmse: 0.721258\n",
      "[600]\tvalid_0's rmse: 0.683746\n",
      "[900]\tvalid_0's rmse: 0.67534\n",
      "[1200]\tvalid_0's rmse: 0.671192\n",
      "[1500]\tvalid_0's rmse: 0.668965\n",
      "[1800]\tvalid_0's rmse: 0.667426\n",
      "Did not meet early stopping. Best iteration is:\n",
      "[2000]\tvalid_0's rmse: 0.666636\n",
      "\n",
      "AV metric score for the validation set is 666.6363246429061\n",
      "\n",
      "------------------ Fold 2-------------------\n",
      "Training until validation scores don't improve for 200 rounds\n",
      "[300]\tvalid_0's rmse: 0.721113\n",
      "[600]\tvalid_0's rmse: 0.687208\n",
      "[900]\tvalid_0's rmse: 0.679797\n",
      "[1200]\tvalid_0's rmse: 0.676404\n",
      "[1500]\tvalid_0's rmse: 0.674785\n",
      "[1800]\tvalid_0's rmse: 0.673901\n",
      "Did not meet early stopping. Best iteration is:\n",
      "[1931]\tvalid_0's rmse: 0.673594\n",
      "\n",
      "AV metric score for the validation set is 673.5943697431178\n",
      "\n",
      "------------------ Fold 3-------------------\n",
      "Training until validation scores don't improve for 200 rounds\n",
      "[300]\tvalid_0's rmse: 0.71805\n",
      "[600]\tvalid_0's rmse: 0.680375\n",
      "[900]\tvalid_0's rmse: 0.672333\n",
      "[1200]\tvalid_0's rmse: 0.669413\n",
      "[1500]\tvalid_0's rmse: 0.667903\n",
      "[1800]\tvalid_0's rmse: 0.667193\n",
      "Did not meet early stopping. Best iteration is:\n",
      "[1980]\tvalid_0's rmse: 0.666948\n",
      "\n",
      "AV metric score for the validation set is 666.9481805245166\n",
      "\n",
      "------------------ Fold 4-------------------\n",
      "Training until validation scores don't improve for 200 rounds\n",
      "[300]\tvalid_0's rmse: 0.710971\n",
      "[600]\tvalid_0's rmse: 0.675266\n",
      "[900]\tvalid_0's rmse: 0.667597\n",
      "[1200]\tvalid_0's rmse: 0.664086\n",
      "[1500]\tvalid_0's rmse: 0.662075\n",
      "[1800]\tvalid_0's rmse: 0.660879\n",
      "Did not meet early stopping. Best iteration is:\n",
      "[1998]\tvalid_0's rmse: 0.66048\n",
      "\n",
      "AV metric score for the validation set is 660.4803460291229\n",
      "\n",
      "------------------ Fold 5-------------------\n",
      "Training until validation scores don't improve for 200 rounds\n",
      "[300]\tvalid_0's rmse: 0.715908\n",
      "[600]\tvalid_0's rmse: 0.679903\n",
      "[900]\tvalid_0's rmse: 0.67359\n",
      "[1200]\tvalid_0's rmse: 0.671095\n",
      "[1500]\tvalid_0's rmse: 0.66961\n",
      "[1800]\tvalid_0's rmse: 0.668732\n",
      "Did not meet early stopping. Best iteration is:\n",
      "[1985]\tvalid_0's rmse: 0.668331\n",
      "\n",
      "AV metric score for the validation set is 668.3312220691254\n",
      "\n",
      "Av metric score for oofs is 667.2112113187223\n"
     ]
    },
    {
     "data": {
      "image/png": "[encoded data removed]",
      "text/plain": [
       "<Figure size 864x432 with 1 Axes>"
      ]
     },
     "metadata": {},
     "output_type": "display_data"
    }
   ],
   "source": [
    "clf = LGBMRegressor(n_estimators=2000,\n",
    "                   learning_rate=0.01,\n",
    "                   colsample_bytree=0.76, # each tree will run on these percentage of features\n",
    "                   metric=\"None\",\n",
    "                   )\n",
    "\n",
    "fit_params = {\"verbose\":300,\"early_stopping_rounds\":200,\"eval_metric\":\"rmse\"}\n",
    "\n",
    "lgb_oofs,lgb_preds,lgb_fi = run_gradient_boosting(clf,fit_params,train_proc,test_proc,cat_num_cols)"
   ]
  },
  {
   "cell_type": "code",
   "execution_count": 42,
   "metadata": {
    "scrolled": true
   },
   "outputs": [
    {
     "name": "stdout",
     "output_type": "stream",
     "text": [
      "\n",
      "------------------ Fold 1-------------------\n",
      "0:\tlearn: 1.9161623\ttest: 1.9077476\tbest: 1.9077476 (0)\ttotal: 83.3ms\tremaining: 4m 9s\n",
      "200:\tlearn: 0.8395688\ttest: 0.8496237\tbest: 0.8496237 (200)\ttotal: 1.91s\tremaining: 26.6s\n",
      "400:\tlearn: 0.7310593\ttest: 0.7459856\tbest: 0.7459856 (400)\ttotal: 3.37s\tremaining: 21.8s\n",
      "600:\tlearn: 0.7071283\ttest: 0.7225519\tbest: 0.7225519 (600)\ttotal: 4.82s\tremaining: 19.2s\n",
      "800:\tlearn: 0.6931874\ttest: 0.7085013\tbest: 0.7085013 (800)\ttotal: 6.19s\tremaining: 17s\n",
      "1000:\tlearn: 0.6828767\ttest: 0.6984767\tbest: 0.6984767 (1000)\ttotal: 7.55s\tremaining: 15.1s\n",
      "1200:\tlearn: 0.6741208\ttest: 0.6901979\tbest: 0.6901979 (1200)\ttotal: 8.96s\tremaining: 13.4s\n",
      "1400:\tlearn: 0.6664207\ttest: 0.6833039\tbest: 0.6833039 (1400)\ttotal: 10.5s\tremaining: 11.9s\n",
      "1600:\tlearn: 0.6604077\ttest: 0.6785152\tbest: 0.6785152 (1600)\ttotal: 12.8s\tremaining: 11.1s\n",
      "1800:\tlearn: 0.6554195\ttest: 0.6750037\tbest: 0.6750022 (1798)\ttotal: 14.7s\tremaining: 9.8s\n",
      "2000:\tlearn: 0.6510266\ttest: 0.6720600\tbest: 0.6720600 (2000)\ttotal: 16.2s\tremaining: 8.08s\n",
      "2200:\tlearn: 0.6472998\ttest: 0.6698285\tbest: 0.6698285 (2200)\ttotal: 17.3s\tremaining: 6.27s\n",
      "2400:\tlearn: 0.6437144\ttest: 0.6677292\tbest: 0.6677292 (2400)\ttotal: 18.5s\tremaining: 4.61s\n",
      "2600:\tlearn: 0.6407440\ttest: 0.6662027\tbest: 0.6662027 (2600)\ttotal: 19.7s\tremaining: 3.03s\n",
      "2800:\tlearn: 0.6377706\ttest: 0.6646979\tbest: 0.6646979 (2800)\ttotal: 21.4s\tremaining: 1.52s\n",
      "2999:\tlearn: 0.6351824\ttest: 0.6635549\tbest: 0.6635549 (2999)\ttotal: 22.6s\tremaining: 0us\n",
      "\n",
      "bestTest = 0.6635549235\n",
      "bestIteration = 2999\n",
      "\n",
      "\n",
      "AV metric score for the validation set is 663.5549291970533\n",
      "\n",
      "------------------ Fold 2-------------------\n",
      "0:\tlearn: 1.9102145\ttest: 1.9279119\tbest: 1.9279119 (0)\ttotal: 6.93ms\tremaining: 20.8s\n",
      "200:\tlearn: 0.8420830\ttest: 0.8531764\tbest: 0.8531764 (200)\ttotal: 1.34s\tremaining: 18.7s\n",
      "400:\tlearn: 0.7323036\ttest: 0.7432106\tbest: 0.7432106 (400)\ttotal: 2.57s\tremaining: 16.7s\n",
      "600:\tlearn: 0.7065721\ttest: 0.7198568\tbest: 0.7198568 (600)\ttotal: 3.59s\tremaining: 14.3s\n",
      "800:\tlearn: 0.6919000\ttest: 0.7074705\tbest: 0.7074705 (800)\ttotal: 4.74s\tremaining: 13s\n",
      "1000:\tlearn: 0.6806796\ttest: 0.6988214\tbest: 0.6988214 (1000)\ttotal: 5.86s\tremaining: 11.7s\n",
      "1200:\tlearn: 0.6710566\ttest: 0.6917759\tbest: 0.6917759 (1200)\ttotal: 6.87s\tremaining: 10.3s\n",
      "1400:\tlearn: 0.6632734\ttest: 0.6863852\tbest: 0.6863852 (1400)\ttotal: 8.06s\tremaining: 9.2s\n",
      "1600:\tlearn: 0.6571608\ttest: 0.6827061\tbest: 0.6827061 (1600)\ttotal: 11.1s\tremaining: 9.7s\n",
      "1800:\tlearn: 0.6517308\ttest: 0.6796638\tbest: 0.6796638 (1800)\ttotal: 13.4s\tremaining: 8.93s\n",
      "2000:\tlearn: 0.6470431\ttest: 0.6774109\tbest: 0.6774109 (2000)\ttotal: 15.3s\tremaining: 7.65s\n",
      "2200:\tlearn: 0.6432165\ttest: 0.6757123\tbest: 0.6757123 (2200)\ttotal: 16.9s\tremaining: 6.15s\n",
      "2400:\tlearn: 0.6395814\ttest: 0.6742337\tbest: 0.6742337 (2400)\ttotal: 18.8s\tremaining: 4.69s\n",
      "2600:\tlearn: 0.6363545\ttest: 0.6730176\tbest: 0.6730176 (2600)\ttotal: 21.3s\tremaining: 3.26s\n",
      "2800:\tlearn: 0.6333779\ttest: 0.6719525\tbest: 0.6719525 (2800)\ttotal: 23.6s\tremaining: 1.67s\n",
      "2999:\tlearn: 0.6306638\ttest: 0.6709549\tbest: 0.6709549 (2999)\ttotal: 25.8s\tremaining: 0us\n",
      "\n",
      "bestTest = 0.6709548934\n",
      "bestIteration = 2999\n",
      "\n",
      "\n",
      "AV metric score for the validation set is 670.9548966273591\n",
      "\n",
      "------------------ Fold 3-------------------\n",
      "0:\tlearn: 1.9174119\ttest: 1.9024446\tbest: 1.9024446 (0)\ttotal: 7.89ms\tremaining: 23.7s\n",
      "200:\tlearn: 0.8413623\ttest: 0.8407082\tbest: 0.8407082 (200)\ttotal: 2.65s\tremaining: 36.9s\n",
      "400:\tlearn: 0.7329084\ttest: 0.7355512\tbest: 0.7355512 (400)\ttotal: 5.37s\tremaining: 34.8s\n",
      "600:\tlearn: 0.7075750\ttest: 0.7125674\tbest: 0.7125674 (600)\ttotal: 7.56s\tremaining: 30.2s\n",
      "800:\tlearn: 0.6930811\ttest: 0.7000954\tbest: 0.7000954 (800)\ttotal: 9.47s\tremaining: 26s\n",
      "1000:\tlearn: 0.6828643\ttest: 0.6916706\tbest: 0.6916706 (1000)\ttotal: 14.4s\tremaining: 28.7s\n",
      "1200:\tlearn: 0.6734292\ttest: 0.6845233\tbest: 0.6845233 (1200)\ttotal: 16.1s\tremaining: 24.1s\n",
      "1400:\tlearn: 0.6655906\ttest: 0.6791123\tbest: 0.6791123 (1400)\ttotal: 18s\tremaining: 20.5s\n",
      "1600:\tlearn: 0.6593441\ttest: 0.6751888\tbest: 0.6751888 (1600)\ttotal: 19.8s\tremaining: 17.3s\n",
      "1800:\tlearn: 0.6541614\ttest: 0.6723404\tbest: 0.6723404 (1800)\ttotal: 21.9s\tremaining: 14.6s\n",
      "2000:\tlearn: 0.6496541\ttest: 0.6701184\tbest: 0.6701184 (2000)\ttotal: 24.7s\tremaining: 12.3s\n",
      "2200:\tlearn: 0.6454838\ttest: 0.6680138\tbest: 0.6680138 (2200)\ttotal: 27s\tremaining: 9.81s\n",
      "2400:\tlearn: 0.6420727\ttest: 0.6665008\tbest: 0.6665008 (2400)\ttotal: 29s\tremaining: 7.24s\n",
      "2600:\tlearn: 0.6389001\ttest: 0.6653767\tbest: 0.6653767 (2600)\ttotal: 31.5s\tremaining: 4.83s\n",
      "2800:\tlearn: 0.6360436\ttest: 0.6644582\tbest: 0.6644582 (2800)\ttotal: 34.4s\tremaining: 2.44s\n",
      "2999:\tlearn: 0.6333470\ttest: 0.6636626\tbest: 0.6636611 (2998)\ttotal: 36.6s\tremaining: 0us\n",
      "\n",
      "bestTest = 0.6636611253\n",
      "bestIteration = 2998\n",
      "\n",
      "Shrink model to first 2999 iterations.\n",
      "\n",
      "AV metric score for the validation set is 663.6611273354283\n",
      "\n",
      "------------------ Fold 4-------------------\n",
      "0:\tlearn: 1.9148456\ttest: 1.9132496\tbest: 1.9132496 (0)\ttotal: 6.09ms\tremaining: 18.3s\n",
      "200:\tlearn: 0.8431977\ttest: 0.8412562\tbest: 0.8412562 (200)\ttotal: 2.41s\tremaining: 33.5s\n",
      "400:\tlearn: 0.7337310\ttest: 0.7331794\tbest: 0.7331794 (400)\ttotal: 4.83s\tremaining: 31.3s\n",
      "600:\tlearn: 0.7090460\ttest: 0.7097344\tbest: 0.7097344 (600)\ttotal: 6.75s\tremaining: 26.9s\n",
      "800:\tlearn: 0.6947106\ttest: 0.6971549\tbest: 0.6971549 (800)\ttotal: 8.73s\tremaining: 24s\n",
      "1000:\tlearn: 0.6838026\ttest: 0.6884343\tbest: 0.6884343 (1000)\ttotal: 10.4s\tremaining: 20.7s\n",
      "1200:\tlearn: 0.6744362\ttest: 0.6816071\tbest: 0.6816071 (1200)\ttotal: 12s\tremaining: 18s\n",
      "1400:\tlearn: 0.6663815\ttest: 0.6761546\tbest: 0.6761546 (1400)\ttotal: 14s\tremaining: 16s\n",
      "1600:\tlearn: 0.6600768\ttest: 0.6723614\tbest: 0.6723614 (1600)\ttotal: 15.9s\tremaining: 13.9s\n",
      "1800:\tlearn: 0.6546965\ttest: 0.6691065\tbest: 0.6691065 (1800)\ttotal: 17.7s\tremaining: 11.8s\n",
      "2000:\tlearn: 0.6500713\ttest: 0.6667331\tbest: 0.6667331 (2000)\ttotal: 20.7s\tremaining: 10.3s\n",
      "2200:\tlearn: 0.6460904\ttest: 0.6646946\tbest: 0.6646946 (2200)\ttotal: 22.8s\tremaining: 8.27s\n",
      "2400:\tlearn: 0.6425891\ttest: 0.6630004\tbest: 0.6630004 (2400)\ttotal: 24.5s\tremaining: 6.11s\n",
      "2600:\tlearn: 0.6395186\ttest: 0.6618048\tbest: 0.6618048 (2600)\ttotal: 26.7s\tremaining: 4.09s\n",
      "2800:\tlearn: 0.6367622\ttest: 0.6605738\tbest: 0.6605738 (2800)\ttotal: 28.8s\tremaining: 2.05s\n",
      "2999:\tlearn: 0.6341184\ttest: 0.6596705\tbest: 0.6596705 (2999)\ttotal: 30.7s\tremaining: 0us\n",
      "\n",
      "bestTest = 0.6596704874\n",
      "bestIteration = 2999\n",
      "\n",
      "\n",
      "AV metric score for the validation set is 659.6704917786057\n",
      "\n",
      "------------------ Fold 5-------------------\n",
      "0:\tlearn: 1.9129559\ttest: 1.9205938\tbest: 1.9205938 (0)\ttotal: 4.64ms\tremaining: 13.9s\n",
      "200:\tlearn: 0.8411112\ttest: 0.8465135\tbest: 0.8465135 (200)\ttotal: 1.84s\tremaining: 25.6s\n",
      "400:\tlearn: 0.7318725\ttest: 0.7387401\tbest: 0.7387401 (400)\ttotal: 3.39s\tremaining: 22s\n",
      "600:\tlearn: 0.7067608\ttest: 0.7158236\tbest: 0.7158236 (600)\ttotal: 4.91s\tremaining: 19.6s\n",
      "800:\tlearn: 0.6920012\ttest: 0.7031806\tbest: 0.7031806 (800)\ttotal: 6.42s\tremaining: 17.6s\n",
      "1000:\tlearn: 0.6812983\ttest: 0.6946471\tbest: 0.6946471 (1000)\ttotal: 8.56s\tremaining: 17.1s\n",
      "1200:\tlearn: 0.6721317\ttest: 0.6875761\tbest: 0.6875761 (1200)\ttotal: 10.4s\tremaining: 15.6s\n",
      "1400:\tlearn: 0.6647845\ttest: 0.6824983\tbest: 0.6824983 (1400)\ttotal: 12.1s\tremaining: 13.8s\n",
      "1600:\tlearn: 0.6586835\ttest: 0.6787441\tbest: 0.6787441 (1600)\ttotal: 13.8s\tremaining: 12.1s\n",
      "1800:\tlearn: 0.6537257\ttest: 0.6760045\tbest: 0.6760045 (1800)\ttotal: 15.8s\tremaining: 10.5s\n",
      "2000:\tlearn: 0.6493984\ttest: 0.6737584\tbest: 0.6737584 (2000)\ttotal: 17.3s\tremaining: 8.66s\n",
      "2200:\tlearn: 0.6456967\ttest: 0.6719438\tbest: 0.6719438 (2200)\ttotal: 18.7s\tremaining: 6.8s\n",
      "2400:\tlearn: 0.6422959\ttest: 0.6705308\tbest: 0.6705308 (2400)\ttotal: 20.2s\tremaining: 5.04s\n",
      "2600:\tlearn: 0.6392454\ttest: 0.6693295\tbest: 0.6693295 (2600)\ttotal: 21.6s\tremaining: 3.31s\n",
      "2800:\tlearn: 0.6363476\ttest: 0.6683361\tbest: 0.6683361 (2800)\ttotal: 23.1s\tremaining: 1.64s\n",
      "2999:\tlearn: 0.6336030\ttest: 0.6673032\tbest: 0.6673032 (2999)\ttotal: 24.5s\tremaining: 0us\n",
      "\n",
      "bestTest = 0.6673031753\n",
      "bestIteration = 2999\n",
      "\n",
      "\n",
      "AV metric score for the validation set is 667.3031740566428\n",
      "\n",
      "Av metric score for oofs is 665.039850627486\n"
     ]
    },
    {
     "data": {
      "image/png": "[encoded data removed]",
      "text/plain": [
       "<Figure size 864x432 with 1 Axes>"
      ]
     },
     "metadata": {},
     "output_type": "display_data"
    }
   ],
   "source": [
    "clf = CatBoostRegressor(n_estimators=3000,\n",
    "                   learning_rate=0.01,\n",
    "                   rsm = 0.4,\n",
    "                   random_state=2054,\n",
    "                   )\n",
    "fit_params = {\"verbose\":200,\"early_stopping_rounds\":200}\n",
    "\n",
    "cb_oofs,cb_preds,cb_fi = run_gradient_boosting(clf,fit_params,train_proc,test_proc,cat_num_cols)"
   ]
  },
  {
   "cell_type": "code",
   "execution_count": 43,
   "metadata": {
    "scrolled": true
   },
   "outputs": [
    {
     "name": "stdout",
     "output_type": "stream",
     "text": [
      "\n",
      "------------------ Fold 1-------------------\n",
      "[0]\tvalidation_0-rmse:7.13994\n",
      "Will train until validation_0-rmse hasn't improved in 200 rounds.\n",
      "[200]\tvalidation_0-rmse:0.67908\n",
      "[400]\tvalidation_0-rmse:0.67125\n",
      "[600]\tvalidation_0-rmse:0.66977\n",
      "[800]\tvalidation_0-rmse:0.66990\n",
      "Stopping. Best iteration:\n",
      "[723]\tvalidation_0-rmse:0.66953\n",
      "\n",
      "\n",
      "AV metric score for the validation set is 669.5272733075626\n",
      "\n",
      "------------------ Fold 2-------------------\n",
      "[0]\tvalidation_0-rmse:7.12723\n",
      "Will train until validation_0-rmse hasn't improved in 200 rounds.\n",
      "[200]\tvalidation_0-rmse:0.68844\n",
      "[400]\tvalidation_0-rmse:0.68107\n",
      "[600]\tvalidation_0-rmse:0.67954\n",
      "Stopping. Best iteration:\n",
      "[599]\tvalidation_0-rmse:0.67951\n",
      "\n",
      "\n",
      "AV metric score for the validation set is 679.5125847088206\n",
      "\n",
      "------------------ Fold 3-------------------\n",
      "[0]\tvalidation_0-rmse:7.11973\n",
      "Will train until validation_0-rmse hasn't improved in 200 rounds.\n",
      "[200]\tvalidation_0-rmse:0.68119\n",
      "[400]\tvalidation_0-rmse:0.67497\n",
      "[600]\tvalidation_0-rmse:0.67439\n",
      "Stopping. Best iteration:\n",
      "[575]\tvalidation_0-rmse:0.67431\n",
      "\n",
      "\n",
      "AV metric score for the validation set is 674.3086394811756\n",
      "\n",
      "------------------ Fold 4-------------------\n",
      "[0]\tvalidation_0-rmse:7.12154\n",
      "Will train until validation_0-rmse hasn't improved in 200 rounds.\n",
      "[200]\tvalidation_0-rmse:0.67201\n",
      "[400]\tvalidation_0-rmse:0.66642\n",
      "[600]\tvalidation_0-rmse:0.66579\n",
      "Stopping. Best iteration:\n",
      "[528]\tvalidation_0-rmse:0.66551\n",
      "\n",
      "\n",
      "AV metric score for the validation set is 665.5099215685767\n",
      "\n",
      "------------------ Fold 5-------------------\n",
      "[0]\tvalidation_0-rmse:7.12020\n",
      "Will train until validation_0-rmse hasn't improved in 200 rounds.\n",
      "[200]\tvalidation_0-rmse:0.68036\n",
      "[400]\tvalidation_0-rmse:0.67553\n",
      "[600]\tvalidation_0-rmse:0.67461\n",
      "[800]\tvalidation_0-rmse:0.67507\n",
      "Stopping. Best iteration:\n",
      "[635]\tvalidation_0-rmse:0.67423\n",
      "\n",
      "\n",
      "AV metric score for the validation set is 674.2336352767733\n",
      "\n",
      "Av metric score for oofs is 672.635103766451\n"
     ]
    },
    {
     "data": {
      "image/png": "[encoded data removed]",
      "text/plain": [
       "<Figure size 864x432 with 1 Axes>"
      ]
     },
     "metadata": {},
     "output_type": "display_data"
    }
   ],
   "source": [
    "clf = XGBRegressor(n_estimators=1000,\n",
    "                   learning_rate=0.05,\n",
    "                   colsample_bytree = 0.5,\n",
    "                   random_state=1452,\n",
    "                   )\n",
    "fit_params = {\"verbose\":200,\"early_stopping_rounds\":200}\n",
    "\n",
    "xg_oofs,xg_preds,xg_fi = run_gradient_boosting(clf,fit_params,train_proc,test_proc,cat_num_cols)"
   ]
  },
  {
   "cell_type": "markdown",
   "metadata": {},
   "source": [
    "# Feature Engineering (most imp.)"
   ]
  },
  {
   "cell_type": "markdown",
   "metadata": {},
   "source": [
    "### Helper function"
   ]
  },
  {
   "cell_type": "code",
   "execution_count": 44,
   "metadata": {},
   "outputs": [],
   "source": [
    "def join_df(train,test):\n",
    "    df = pd.concat([train,test]).reset_index(drop=True)\n",
    "    features = [c for c in df.columns if c not in [ID_COL,TARGET_COL]]\n",
    "    df[num_cols + [\"likes\"]] = df[num_cols+[\"likes\"]].apply(lambda x: np.log1p(x))\n",
    "    \n",
    "    return df,features\n",
    "\n",
    "def split_df_and_get_features(df,train_nrows):\n",
    "    train,test=df[:train_nrows].reset_index(drop=True),df[train_nrows:].reset_index(drop=True)\n",
    "    features = [c for c in train.columns if c not in [ID_COL,TARGET_COL]]\n",
    "    \n",
    "    return train,test,features"
   ]
  },
  {
   "cell_type": "code",
   "execution_count": 45,
   "metadata": {},
   "outputs": [],
   "source": [
    "df, features = join_df(train,test)"
   ]
  },
  {
   "cell_type": "code",
   "execution_count": 46,
   "metadata": {},
   "outputs": [],
   "source": [
    "cat_cols = [\"category_id\",\"country_code\",\"channel_title\"]"
   ]
  },
  {
   "cell_type": "markdown",
   "metadata": {},
   "source": [
    "Label Encoding"
   ]
  },
  {
   "cell_type": "code",
   "execution_count": 47,
   "metadata": {},
   "outputs": [],
   "source": [
    "df[cat_cols] = df[cat_cols].apply(lambda x:pd.factorize(x)[0])"
   ]
  },
  {
   "cell_type": "code",
   "execution_count": 48,
   "metadata": {},
   "outputs": [
    {
     "data": {
      "text/html": [
       "<div>\n",
       "<style scoped>\n",
       "    .dataframe tbody tr th:only-of-type {\n",
       "        vertical-align: middle;\n",
       "    }\n",
       "\n",
       "    .dataframe tbody tr th {\n",
       "        vertical-align: top;\n",
       "    }\n",
       "\n",
       "    .dataframe thead th {\n",
       "        text-align: right;\n",
       "    }\n",
       "</style>\n",
       "<table border=\"1\" class=\"dataframe\">\n",
       "  <thead>\n",
       "    <tr style=\"text-align: right;\">\n",
       "      <th></th>\n",
       "      <th>video_id</th>\n",
       "      <th>title</th>\n",
       "      <th>channel_title</th>\n",
       "      <th>category_id</th>\n",
       "      <th>publish_date</th>\n",
       "      <th>tags</th>\n",
       "      <th>views</th>\n",
       "      <th>dislikes</th>\n",
       "      <th>comment_count</th>\n",
       "      <th>description</th>\n",
       "      <th>country_code</th>\n",
       "      <th>likes</th>\n",
       "    </tr>\n",
       "  </thead>\n",
       "  <tbody>\n",
       "    <tr>\n",
       "      <th>0</th>\n",
       "      <td>53364</td>\n",
       "      <td>Alif Allah Aur Insaan Episode 34 HUM TV Drama ...</td>\n",
       "      <td>0</td>\n",
       "      <td>0</td>\n",
       "      <td>2017-12-12</td>\n",
       "      <td>HUM|\"TV\"|\"Alif Allah Aur Insaan\"|\"Episode 34\"|...</td>\n",
       "      <td>12.769769</td>\n",
       "      <td>5.700444</td>\n",
       "      <td>6.803505</td>\n",
       "      <td>Alif Allah Aur Insaan Episode 34 Full - 12 Dec...</td>\n",
       "      <td>0</td>\n",
       "      <td>7.763021</td>\n",
       "    </tr>\n",
       "  </tbody>\n",
       "</table>\n",
       "</div>"
      ],
      "text/plain": [
       "   video_id                                              title  channel_title  \\\n",
       "0     53364  Alif Allah Aur Insaan Episode 34 HUM TV Drama ...              0   \n",
       "\n",
       "   category_id publish_date  \\\n",
       "0            0   2017-12-12   \n",
       "\n",
       "                                                tags      views  dislikes  \\\n",
       "0  HUM|\"TV\"|\"Alif Allah Aur Insaan\"|\"Episode 34\"|...  12.769769  5.700444   \n",
       "\n",
       "   comment_count                                        description  \\\n",
       "0       6.803505  Alif Allah Aur Insaan Episode 34 Full - 12 Dec...   \n",
       "\n",
       "   country_code     likes  \n",
       "0             0  7.763021  "
      ]
     },
     "execution_count": 48,
     "metadata": {},
     "output_type": "execute_result"
    }
   ],
   "source": [
    "df.head(1)"
   ]
  },
  {
   "cell_type": "markdown",
   "metadata": {},
   "source": [
    "Date time features"
   ]
  },
  {
   "cell_type": "code",
   "execution_count": 49,
   "metadata": {},
   "outputs": [],
   "source": [
    "df[\"publish_date\"] = pd.to_datetime(df[\"publish_date\"],format=\"%Y-%m-%d\")\n",
    "df[\"publish_date_days_since_start\"] = (df[\"publish_date\"] - df[\"publish_date\"].min()).dt.days\n",
    "\n",
    "df[\"publish_date_day_of_week\"] = df[\"publish_date\"].dt.dayofweek\n",
    "df[\"publish_year\"] = df[\"publish_date\"].dt.year\n",
    "df[\"publish_month\"] = df[\"publish_date\"].dt.month"
   ]
  },
  {
   "cell_type": "code",
   "execution_count": 50,
   "metadata": {},
   "outputs": [],
   "source": [
    "features = [c for c in df.columns if c not in [ID_COL,TARGET_COL]]\n",
    "cat_num_cols = [c for c in features if c not in ['title','tags','description','publish_date']]"
   ]
  },
  {
   "cell_type": "code",
   "execution_count": 51,
   "metadata": {},
   "outputs": [
    {
     "data": {
      "text/plain": [
       "['channel_title',\n",
       " 'category_id',\n",
       " 'views',\n",
       " 'dislikes',\n",
       " 'comment_count',\n",
       " 'country_code',\n",
       " 'publish_date_days_since_start',\n",
       " 'publish_date_day_of_week',\n",
       " 'publish_year',\n",
       " 'publish_month']"
      ]
     },
     "execution_count": 51,
     "metadata": {},
     "output_type": "execute_result"
    }
   ],
   "source": [
    "cat_num_cols"
   ]
  },
  {
   "cell_type": "code",
   "execution_count": 52,
   "metadata": {},
   "outputs": [],
   "source": [
    "train_proc,test_proc,features = split_df_and_get_features(df,train.shape[0])"
   ]
  },
  {
   "cell_type": "code",
   "execution_count": 53,
   "metadata": {
    "scrolled": true
   },
   "outputs": [
    {
     "name": "stdout",
     "output_type": "stream",
     "text": [
      "\n",
      "------------------ Fold 1-------------------\n",
      "Training until validation scores don't improve for 200 rounds\n",
      "[300]\tvalid_0's rmse: 0.631812\n",
      "[600]\tvalid_0's rmse: 0.612002\n",
      "[900]\tvalid_0's rmse: 0.603912\n",
      "[1200]\tvalid_0's rmse: 0.599437\n",
      "[1500]\tvalid_0's rmse: 0.596027\n",
      "[1800]\tvalid_0's rmse: 0.594009\n",
      "[2100]\tvalid_0's rmse: 0.593281\n",
      "[2400]\tvalid_0's rmse: 0.592734\n",
      "[2700]\tvalid_0's rmse: 0.591935\n",
      "[3000]\tvalid_0's rmse: 0.5914\n",
      "[3300]\tvalid_0's rmse: 0.591347\n",
      "Early stopping, best iteration is:\n",
      "[3164]\tvalid_0's rmse: 0.591147\n",
      "\n",
      "AV metric score for the validation set is 591.1466534497896\n",
      "\n",
      "------------------ Fold 2-------------------\n",
      "Training until validation scores don't improve for 200 rounds\n",
      "[300]\tvalid_0's rmse: 0.638311\n",
      "[600]\tvalid_0's rmse: 0.619742\n",
      "[900]\tvalid_0's rmse: 0.611908\n",
      "[1200]\tvalid_0's rmse: 0.607079\n",
      "[1500]\tvalid_0's rmse: 0.604709\n",
      "[1800]\tvalid_0's rmse: 0.60396\n",
      "[2100]\tvalid_0's rmse: 0.602692\n",
      "[2400]\tvalid_0's rmse: 0.602465\n",
      "[2700]\tvalid_0's rmse: 0.601774\n",
      "[3000]\tvalid_0's rmse: 0.601514\n",
      "Early stopping, best iteration is:\n",
      "[3058]\tvalid_0's rmse: 0.601353\n",
      "\n",
      "AV metric score for the validation set is 601.3526036760775\n",
      "\n",
      "------------------ Fold 3-------------------\n",
      "Training until validation scores don't improve for 200 rounds\n",
      "[300]\tvalid_0's rmse: 0.619622\n",
      "[600]\tvalid_0's rmse: 0.602736\n",
      "[900]\tvalid_0's rmse: 0.592753\n",
      "[1200]\tvalid_0's rmse: 0.5896\n",
      "[1500]\tvalid_0's rmse: 0.58804\n",
      "[1800]\tvalid_0's rmse: 0.586245\n",
      "[2100]\tvalid_0's rmse: 0.585716\n",
      "[2400]\tvalid_0's rmse: 0.585651\n",
      "Early stopping, best iteration is:\n",
      "[2267]\tvalid_0's rmse: 0.585143\n",
      "\n",
      "AV metric score for the validation set is 585.1425600591122\n",
      "\n",
      "------------------ Fold 4-------------------\n",
      "Training until validation scores don't improve for 200 rounds\n",
      "[300]\tvalid_0's rmse: 0.61637\n",
      "[600]\tvalid_0's rmse: 0.59752\n",
      "[900]\tvalid_0's rmse: 0.58914\n",
      "[1200]\tvalid_0's rmse: 0.58257\n",
      "[1500]\tvalid_0's rmse: 0.579973\n",
      "[1800]\tvalid_0's rmse: 0.57918\n",
      "[2100]\tvalid_0's rmse: 0.577921\n",
      "[2400]\tvalid_0's rmse: 0.577578\n",
      "Early stopping, best iteration is:\n",
      "[2346]\tvalid_0's rmse: 0.577452\n",
      "\n",
      "AV metric score for the validation set is 577.4525010036764\n",
      "\n",
      "------------------ Fold 5-------------------\n",
      "Training until validation scores don't improve for 200 rounds\n",
      "[300]\tvalid_0's rmse: 0.622849\n",
      "[600]\tvalid_0's rmse: 0.606744\n",
      "[900]\tvalid_0's rmse: 0.60128\n",
      "[1200]\tvalid_0's rmse: 0.597408\n",
      "[1500]\tvalid_0's rmse: 0.595444\n",
      "[1800]\tvalid_0's rmse: 0.594094\n",
      "[2100]\tvalid_0's rmse: 0.592872\n",
      "Early stopping, best iteration is:\n",
      "[2123]\tvalid_0's rmse: 0.592809\n",
      "\n",
      "AV metric score for the validation set is 592.8091507938257\n",
      "\n",
      "Av metric score for oofs is 589.634727290276\n"
     ]
    },
    {
     "data": {
      "image/png": "[encoded data removed]",
      "text/plain": [
       "<Figure size 864x432 with 1 Axes>"
      ]
     },
     "metadata": {},
     "output_type": "display_data"
    }
   ],
   "source": [
    "clf = LGBMRegressor(n_estimators=5000,\n",
    "                   learning_rate=0.05,\n",
    "                   colsample_bytree=0.65, # each tree will run on these percentage of features\n",
    "                   metric=\"None\",\n",
    "                   )\n",
    "\n",
    "fit_params = {\"verbose\":300,\"early_stopping_rounds\":200,\"eval_metric\":\"rmse\"}\n",
    "\n",
    "lgb_oofs,lgb_preds,lgb_fi = run_gradient_boosting(clf,fit_params,train_proc,test_proc,cat_num_cols)"
   ]
  },
  {
   "cell_type": "code",
   "execution_count": 54,
   "metadata": {},
   "outputs": [
    {
     "data": {
      "text/html": [
       "<div>\n",
       "<style scoped>\n",
       "    .dataframe tbody tr th:only-of-type {\n",
       "        vertical-align: middle;\n",
       "    }\n",
       "\n",
       "    .dataframe tbody tr th {\n",
       "        vertical-align: top;\n",
       "    }\n",
       "\n",
       "    .dataframe thead th {\n",
       "        text-align: right;\n",
       "    }\n",
       "</style>\n",
       "<table border=\"1\" class=\"dataframe\">\n",
       "  <thead>\n",
       "    <tr style=\"text-align: right;\">\n",
       "      <th></th>\n",
       "      <th>video_id</th>\n",
       "      <th>title</th>\n",
       "      <th>channel_title</th>\n",
       "      <th>category_id</th>\n",
       "      <th>publish_date</th>\n",
       "      <th>tags</th>\n",
       "      <th>views</th>\n",
       "      <th>dislikes</th>\n",
       "      <th>comment_count</th>\n",
       "      <th>description</th>\n",
       "      <th>country_code</th>\n",
       "      <th>likes</th>\n",
       "      <th>publish_date_days_since_start</th>\n",
       "      <th>publish_date_day_of_week</th>\n",
       "      <th>publish_year</th>\n",
       "      <th>publish_month</th>\n",
       "    </tr>\n",
       "  </thead>\n",
       "  <tbody>\n",
       "    <tr>\n",
       "      <th>0</th>\n",
       "      <td>53364</td>\n",
       "      <td>Alif Allah Aur Insaan Episode 34 HUM TV Drama ...</td>\n",
       "      <td>0</td>\n",
       "      <td>0</td>\n",
       "      <td>2017-12-12</td>\n",
       "      <td>HUM|\"TV\"|\"Alif Allah Aur Insaan\"|\"Episode 34\"|...</td>\n",
       "      <td>12.769769</td>\n",
       "      <td>5.700444</td>\n",
       "      <td>6.803505</td>\n",
       "      <td>Alif Allah Aur Insaan Episode 34 Full - 12 Dec...</td>\n",
       "      <td>0</td>\n",
       "      <td>7.763021</td>\n",
       "      <td>4160</td>\n",
       "      <td>1</td>\n",
       "      <td>2017</td>\n",
       "      <td>12</td>\n",
       "    </tr>\n",
       "  </tbody>\n",
       "</table>\n",
       "</div>"
      ],
      "text/plain": [
       "   video_id                                              title  channel_title  \\\n",
       "0     53364  Alif Allah Aur Insaan Episode 34 HUM TV Drama ...              0   \n",
       "\n",
       "   category_id publish_date  \\\n",
       "0            0   2017-12-12   \n",
       "\n",
       "                                                tags      views  dislikes  \\\n",
       "0  HUM|\"TV\"|\"Alif Allah Aur Insaan\"|\"Episode 34\"|...  12.769769  5.700444   \n",
       "\n",
       "   comment_count                                        description  \\\n",
       "0       6.803505  Alif Allah Aur Insaan Episode 34 Full - 12 Dec...   \n",
       "\n",
       "   country_code     likes  publish_date_days_since_start  \\\n",
       "0             0  7.763021                           4160   \n",
       "\n",
       "   publish_date_day_of_week  publish_year  publish_month  \n",
       "0                         1          2017             12  "
      ]
     },
     "execution_count": 54,
     "metadata": {},
     "output_type": "execute_result"
    }
   ],
   "source": [
    "train_proc.head(1)"
   ]
  },
  {
   "cell_type": "markdown",
   "metadata": {},
   "source": [
    "## Feature Frequencies"
   ]
  },
  {
   "cell_type": "markdown",
   "metadata": {},
   "source": [
    "If a channel is posting a lot of videos it might get more likes, so we can check that by checking the frequency of channels and there corresponding likes......"
   ]
  },
  {
   "cell_type": "markdown",
   "metadata": {},
   "source": [
    "#### Encoding Channel title"
   ]
  },
  {
   "cell_type": "code",
   "execution_count": 55,
   "metadata": {},
   "outputs": [
    {
     "data": {
      "text/plain": [
       "6979"
      ]
     },
     "execution_count": 55,
     "metadata": {},
     "output_type": "execute_result"
    }
   ],
   "source": [
    "df.channel_title.nunique()"
   ]
  },
  {
   "cell_type": "code",
   "execution_count": 56,
   "metadata": {},
   "outputs": [
    {
     "data": {
      "text/plain": [
       "116     233\n",
       "299     180\n",
       "15      179\n",
       "92      169\n",
       "406     152\n",
       "       ... \n",
       "3832      1\n",
       "5883      1\n",
       "5551      1\n",
       "1453      1\n",
       "4078      1\n",
       "Name: channel_title, Length: 6979, dtype: int64"
      ]
     },
     "execution_count": 56,
     "metadata": {},
     "output_type": "execute_result"
    }
   ],
   "source": [
    "df.channel_title.value_counts()"
   ]
  },
  {
   "cell_type": "code",
   "execution_count": 57,
   "metadata": {},
   "outputs": [
    {
     "data": {
      "text/plain": [
       "2018-01-29    282\n",
       "2017-12-13    258\n",
       "2018-01-19    257\n",
       "2017-12-20    255\n",
       "2018-01-12    255\n",
       "             ... \n",
       "2017-10-27      1\n",
       "2013-10-27      1\n",
       "2015-03-29      1\n",
       "2011-02-03      1\n",
       "2013-03-20      1\n",
       "Name: publish_date, Length: 399, dtype: int64"
      ]
     },
     "execution_count": 57,
     "metadata": {},
     "output_type": "execute_result"
    }
   ],
   "source": [
    "df.publish_date.value_counts()"
   ]
  },
  {
   "cell_type": "markdown",
   "metadata": {},
   "source": [
    "Replace channel title name and publish date with number of videos for each channel title and publish date so that we can get to know the frequecy of each channel and number of videos uploaded on a single date"
   ]
  },
  {
   "cell_type": "code",
   "execution_count": 58,
   "metadata": {},
   "outputs": [],
   "source": [
    "df[\"channel_title_num_videos\"] = df[\"channel_title\"].map(df[\"channel_title\"].value_counts())\n",
    "df[\"publish_date_num_videos\"] = df[\"publish_date\"].map(df[\"publish_date\"].value_counts())"
   ]
  },
  {
   "cell_type": "code",
   "execution_count": 59,
   "metadata": {},
   "outputs": [],
   "source": [
    "train_proc,test_proc,features = split_df_and_get_features(df,train.shape[0])"
   ]
  },
  {
   "cell_type": "code",
   "execution_count": 60,
   "metadata": {},
   "outputs": [],
   "source": [
    "features = [c for c in df.columns if c not in [ID_COL,TARGET_COL]]\n",
    "cat_num_cols = [c for c in features if c not in ['title','tags','description','publish_date']] \n",
    "# Need to run this again as we have added some new features"
   ]
  },
  {
   "cell_type": "code",
   "execution_count": 61,
   "metadata": {
    "scrolled": true
   },
   "outputs": [
    {
     "name": "stdout",
     "output_type": "stream",
     "text": [
      "\n",
      "------------------ Fold 1-------------------\n",
      "Training until validation scores don't improve for 200 rounds\n",
      "[300]\tvalid_0's rmse: 0.608363\n",
      "[600]\tvalid_0's rmse: 0.584571\n",
      "[900]\tvalid_0's rmse: 0.572998\n",
      "[1200]\tvalid_0's rmse: 0.567373\n",
      "[1500]\tvalid_0's rmse: 0.563138\n",
      "[1800]\tvalid_0's rmse: 0.560296\n",
      "[2100]\tvalid_0's rmse: 0.558275\n",
      "[2400]\tvalid_0's rmse: 0.55671\n",
      "[2700]\tvalid_0's rmse: 0.555969\n",
      "[3000]\tvalid_0's rmse: 0.555349\n",
      "Early stopping, best iteration is:\n",
      "[3098]\tvalid_0's rmse: 0.555199\n",
      "\n",
      "AV metric score for the validation set is 555.1991985882341\n",
      "\n",
      "------------------ Fold 2-------------------\n",
      "Training until validation scores don't improve for 200 rounds\n",
      "[300]\tvalid_0's rmse: 0.613145\n",
      "[600]\tvalid_0's rmse: 0.590227\n",
      "[900]\tvalid_0's rmse: 0.580194\n",
      "[1200]\tvalid_0's rmse: 0.573934\n",
      "[1500]\tvalid_0's rmse: 0.570374\n",
      "[1800]\tvalid_0's rmse: 0.566635\n",
      "[2100]\tvalid_0's rmse: 0.564748\n",
      "[2400]\tvalid_0's rmse: 0.563521\n",
      "[2700]\tvalid_0's rmse: 0.562893\n",
      "[3000]\tvalid_0's rmse: 0.562336\n",
      "Early stopping, best iteration is:\n",
      "[2976]\tvalid_0's rmse: 0.562297\n",
      "\n",
      "AV metric score for the validation set is 562.2965542064438\n",
      "\n",
      "------------------ Fold 3-------------------\n",
      "Training until validation scores don't improve for 200 rounds\n",
      "[300]\tvalid_0's rmse: 0.600634\n",
      "[600]\tvalid_0's rmse: 0.577013\n",
      "[900]\tvalid_0's rmse: 0.568181\n",
      "[1200]\tvalid_0's rmse: 0.562532\n",
      "[1500]\tvalid_0's rmse: 0.559227\n",
      "[1800]\tvalid_0's rmse: 0.558007\n",
      "[2100]\tvalid_0's rmse: 0.557593\n",
      "[2400]\tvalid_0's rmse: 0.556741\n",
      "Early stopping, best iteration is:\n",
      "[2448]\tvalid_0's rmse: 0.556398\n",
      "\n",
      "AV metric score for the validation set is 556.3977103619172\n",
      "\n",
      "------------------ Fold 4-------------------\n",
      "Training until validation scores don't improve for 200 rounds\n",
      "[300]\tvalid_0's rmse: 0.595766\n",
      "[600]\tvalid_0's rmse: 0.572437\n",
      "[900]\tvalid_0's rmse: 0.562756\n",
      "[1200]\tvalid_0's rmse: 0.557499\n",
      "[1500]\tvalid_0's rmse: 0.55374\n",
      "[1800]\tvalid_0's rmse: 0.552499\n",
      "[2100]\tvalid_0's rmse: 0.551779\n",
      "[2400]\tvalid_0's rmse: 0.551132\n",
      "[2700]\tvalid_0's rmse: 0.54987\n",
      "[3000]\tvalid_0's rmse: 0.549142\n",
      "Early stopping, best iteration is:\n",
      "[3094]\tvalid_0's rmse: 0.549025\n",
      "\n",
      "AV metric score for the validation set is 549.0251216291434\n",
      "\n",
      "------------------ Fold 5-------------------\n",
      "Training until validation scores don't improve for 200 rounds\n",
      "[300]\tvalid_0's rmse: 0.60504\n",
      "[600]\tvalid_0's rmse: 0.586375\n",
      "[900]\tvalid_0's rmse: 0.57827\n",
      "[1200]\tvalid_0's rmse: 0.573377\n",
      "[1500]\tvalid_0's rmse: 0.569614\n",
      "[1800]\tvalid_0's rmse: 0.56815\n",
      "[2100]\tvalid_0's rmse: 0.567033\n",
      "[2400]\tvalid_0's rmse: 0.56594\n",
      "[2700]\tvalid_0's rmse: 0.565377\n",
      "Early stopping, best iteration is:\n",
      "[2786]\tvalid_0's rmse: 0.56524\n",
      "\n",
      "AV metric score for the validation set is 565.2400364154547\n",
      "\n",
      "Av metric score for oofs is 557.6605301593147\n"
     ]
    },
    {
     "data": {
      "image/png": "[encoded data removed]",
      "text/plain": [
       "<Figure size 864x432 with 1 Axes>"
      ]
     },
     "metadata": {},
     "output_type": "display_data"
    }
   ],
   "source": [
    "clf = LGBMRegressor(n_estimators=5000,\n",
    "                   learning_rate=0.05,\n",
    "                   colsample_bytree=0.65, # each tree will run on these percentage of features\n",
    "                   metric=\"None\",\n",
    "                   )\n",
    "\n",
    "fit_params = {\"verbose\":300,\"early_stopping_rounds\":200,\"eval_metric\":\"rmse\"}\n",
    "\n",
    "lgb_oofs,lgb_preds,lgb_fi = run_gradient_boosting(clf,fit_params,train_proc,test_proc,cat_num_cols)"
   ]
  },
  {
   "cell_type": "code",
   "execution_count": 63,
   "metadata": {},
   "outputs": [
    {
     "data": {
      "text/plain": [
       "array([2, 1, 3, 4], dtype=int64)"
      ]
     },
     "execution_count": 63,
     "metadata": {},
     "output_type": "execute_result"
    }
   ],
   "source": [
    "df[\"channel_in_n_countries\"] = df.groupby(\"channel_title\")[\"country_code\"].transform(\"nunique\")\n",
    "df[\"channel_in_n_countries\"].unique()"
   ]
  },
  {
   "cell_type": "code",
   "execution_count": 64,
   "metadata": {},
   "outputs": [
    {
     "data": {
      "text/plain": [
       "0    2\n",
       "1    1\n",
       "2    1\n",
       "3    1\n",
       "4    1\n",
       "Name: channel_in_n_countries, dtype: int64"
      ]
     },
     "execution_count": 64,
     "metadata": {},
     "output_type": "execute_result"
    }
   ],
   "source": [
    "df[\"channel_in_n_countries\"].head()"
   ]
  },
  {
   "cell_type": "code",
   "execution_count": 65,
   "metadata": {},
   "outputs": [],
   "source": [
    "train_proc,test_proc,features = split_df_and_get_features(df,train.shape[0])\n",
    "features = [c for c in df.columns if c not in [ID_COL,TARGET_COL]]\n",
    "cat_num_cols = [c for c in features if c not in ['title','tags','description','publish_date']] \n",
    "# Need to run this again as we have added some new features"
   ]
  },
  {
   "cell_type": "code",
   "execution_count": 66,
   "metadata": {
    "scrolled": true
   },
   "outputs": [
    {
     "name": "stdout",
     "output_type": "stream",
     "text": [
      "\n",
      "------------------ Fold 1-------------------\n",
      "Training until validation scores don't improve for 200 rounds\n",
      "[300]\tvalid_0's rmse: 0.603709\n",
      "[600]\tvalid_0's rmse: 0.580205\n",
      "[900]\tvalid_0's rmse: 0.567329\n",
      "[1200]\tvalid_0's rmse: 0.561142\n",
      "[1500]\tvalid_0's rmse: 0.557417\n",
      "[1800]\tvalid_0's rmse: 0.553811\n",
      "[2100]\tvalid_0's rmse: 0.552283\n",
      "[2400]\tvalid_0's rmse: 0.551667\n",
      "[2700]\tvalid_0's rmse: 0.551001\n",
      "[3000]\tvalid_0's rmse: 0.550333\n",
      "[3300]\tvalid_0's rmse: 0.549939\n",
      "[3600]\tvalid_0's rmse: 0.550285\n",
      "Early stopping, best iteration is:\n",
      "[3436]\tvalid_0's rmse: 0.549725\n",
      "\n",
      "AV metric score for the validation set is 549.7247648369083\n",
      "\n",
      "------------------ Fold 2-------------------\n",
      "Training until validation scores don't improve for 200 rounds\n",
      "[300]\tvalid_0's rmse: 0.604718\n",
      "[600]\tvalid_0's rmse: 0.584637\n",
      "[900]\tvalid_0's rmse: 0.575535\n",
      "[1200]\tvalid_0's rmse: 0.569474\n",
      "[1500]\tvalid_0's rmse: 0.566047\n",
      "[1800]\tvalid_0's rmse: 0.564031\n",
      "[2100]\tvalid_0's rmse: 0.562625\n",
      "[2400]\tvalid_0's rmse: 0.56152\n",
      "[2700]\tvalid_0's rmse: 0.560518\n",
      "[3000]\tvalid_0's rmse: 0.559739\n",
      "Early stopping, best iteration is:\n",
      "[3025]\tvalid_0's rmse: 0.559655\n",
      "\n",
      "AV metric score for the validation set is 559.6554190117891\n",
      "\n",
      "------------------ Fold 3-------------------\n",
      "Training until validation scores don't improve for 200 rounds\n",
      "[300]\tvalid_0's rmse: 0.590625\n",
      "[600]\tvalid_0's rmse: 0.567964\n",
      "[900]\tvalid_0's rmse: 0.556953\n",
      "[1200]\tvalid_0's rmse: 0.551475\n",
      "[1500]\tvalid_0's rmse: 0.548964\n",
      "[1800]\tvalid_0's rmse: 0.547334\n",
      "[2100]\tvalid_0's rmse: 0.546515\n",
      "[2400]\tvalid_0's rmse: 0.545992\n",
      "Early stopping, best iteration is:\n",
      "[2312]\tvalid_0's rmse: 0.54577\n",
      "\n",
      "AV metric score for the validation set is 545.7695627091182\n",
      "\n",
      "------------------ Fold 4-------------------\n",
      "Training until validation scores don't improve for 200 rounds\n",
      "[300]\tvalid_0's rmse: 0.586921\n",
      "[600]\tvalid_0's rmse: 0.563729\n",
      "[900]\tvalid_0's rmse: 0.556357\n",
      "[1200]\tvalid_0's rmse: 0.553815\n",
      "[1500]\tvalid_0's rmse: 0.551048\n",
      "[1800]\tvalid_0's rmse: 0.549069\n",
      "[2100]\tvalid_0's rmse: 0.547643\n",
      "[2400]\tvalid_0's rmse: 0.54714\n",
      "Early stopping, best iteration is:\n",
      "[2396]\tvalid_0's rmse: 0.547114\n",
      "\n",
      "AV metric score for the validation set is 547.1144702819149\n",
      "\n",
      "------------------ Fold 5-------------------\n",
      "Training until validation scores don't improve for 200 rounds\n",
      "[300]\tvalid_0's rmse: 0.599618\n",
      "[600]\tvalid_0's rmse: 0.579861\n",
      "[900]\tvalid_0's rmse: 0.572946\n",
      "[1200]\tvalid_0's rmse: 0.568895\n",
      "[1500]\tvalid_0's rmse: 0.563893\n",
      "[1800]\tvalid_0's rmse: 0.562517\n",
      "[2100]\tvalid_0's rmse: 0.560442\n",
      "[2400]\tvalid_0's rmse: 0.559381\n",
      "Early stopping, best iteration is:\n",
      "[2347]\tvalid_0's rmse: 0.559284\n",
      "\n",
      "AV metric score for the validation set is 559.2841919047755\n",
      "\n",
      "Av metric score for oofs is 552.3419987981389\n"
     ]
    },
    {
     "data": {
      "image/png": "[encoded data removed]",
      "text/plain": [
       "<Figure size 864x432 with 1 Axes>"
      ]
     },
     "metadata": {},
     "output_type": "display_data"
    }
   ],
   "source": [
    "clf = LGBMRegressor(n_estimators=5000,\n",
    "                   learning_rate=0.05,\n",
    "                   colsample_bytree=0.65, # each tree will run on these percentage of features\n",
    "                   metric=\"None\",\n",
    "                   )\n",
    "\n",
    "fit_params = {\"verbose\":300,\"early_stopping_rounds\":200,\"eval_metric\":\"rmse\"}\n",
    "\n",
    "lgb_oofs,lgb_preds,lgb_fi = run_gradient_boosting(clf,fit_params,train_proc,test_proc,cat_num_cols)"
   ]
  },
  {
   "cell_type": "markdown",
   "metadata": {},
   "source": [
    "Grouping Features"
   ]
  },
  {
   "cell_type": "code",
   "execution_count": 67,
   "metadata": {},
   "outputs": [],
   "source": [
    "df[\"channel_title_mean_view\"] = df.groupby(\"channel_title\")[\"views\"].transform('mean')\n",
    "df[\"channel_title_max_views\"] = df.groupby(\"channel_title\")[\"views\"].transform('max')\n",
    "df[\"channel_title_min_views\"] = df.groupby(\"channel_title\")[\"views\"].transform('min')\n",
    "\n",
    "df[\"channel_title_mean_comments\"] = df.groupby(\"channel_title\")[\"comment_count\"].transform(\"mean\")\n",
    "df[\"channel_title_max_comments\"] = df.groupby(\"channel_title\")[\"comment_count\"].transform(\"max\")\n",
    "df[\"channel_title_min_comments\"] = df.groupby(\"channel_title\")[\"comment_count\"].transform(\"min\")"
   ]
  },
  {
   "cell_type": "code",
   "execution_count": 68,
   "metadata": {},
   "outputs": [],
   "source": [
    "train_proc,test_proc,features = split_df_and_get_features(df,train.shape[0])\n",
    "features = [c for c in df.columns if c not in [ID_COL,TARGET_COL]]\n",
    "cat_num_cols = [c for c in features if c not in ['title','tags','description','publish_date']] \n",
    "# Need to run this again as we have added some new features"
   ]
  },
  {
   "cell_type": "code",
   "execution_count": 69,
   "metadata": {},
   "outputs": [
    {
     "name": "stdout",
     "output_type": "stream",
     "text": [
      "\n",
      "------------------ Fold 1-------------------\n",
      "Training until validation scores don't improve for 200 rounds\n",
      "[300]\tvalid_0's rmse: 0.557655\n",
      "[600]\tvalid_0's rmse: 0.532166\n",
      "[900]\tvalid_0's rmse: 0.519408\n",
      "[1200]\tvalid_0's rmse: 0.512266\n",
      "[1500]\tvalid_0's rmse: 0.508496\n",
      "[1800]\tvalid_0's rmse: 0.506258\n",
      "[2100]\tvalid_0's rmse: 0.505042\n",
      "[2400]\tvalid_0's rmse: 0.503978\n",
      "[2700]\tvalid_0's rmse: 0.502961\n",
      "[3000]\tvalid_0's rmse: 0.502519\n",
      "[3300]\tvalid_0's rmse: 0.50183\n",
      "[3600]\tvalid_0's rmse: 0.501319\n",
      "[3900]\tvalid_0's rmse: 0.500759\n",
      "Early stopping, best iteration is:\n",
      "[3866]\tvalid_0's rmse: 0.500711\n",
      "\n",
      "AV metric score for the validation set is 500.7105721243611\n",
      "\n",
      "------------------ Fold 2-------------------\n",
      "Training until validation scores don't improve for 200 rounds\n",
      "[300]\tvalid_0's rmse: 0.55092\n",
      "[600]\tvalid_0's rmse: 0.526312\n",
      "[900]\tvalid_0's rmse: 0.516524\n",
      "[1200]\tvalid_0's rmse: 0.510988\n",
      "[1500]\tvalid_0's rmse: 0.50834\n",
      "[1800]\tvalid_0's rmse: 0.505832\n",
      "[2100]\tvalid_0's rmse: 0.504607\n",
      "[2400]\tvalid_0's rmse: 0.50421\n",
      "[2700]\tvalid_0's rmse: 0.5037\n",
      "[3000]\tvalid_0's rmse: 0.503478\n",
      "[3300]\tvalid_0's rmse: 0.503371\n",
      "[3600]\tvalid_0's rmse: 0.502863\n",
      "[3900]\tvalid_0's rmse: 0.502671\n",
      "Early stopping, best iteration is:\n",
      "[3948]\tvalid_0's rmse: 0.502614\n",
      "\n",
      "AV metric score for the validation set is 502.6144607426925\n",
      "\n",
      "------------------ Fold 3-------------------\n",
      "Training until validation scores don't improve for 200 rounds\n",
      "[300]\tvalid_0's rmse: 0.544681\n",
      "[600]\tvalid_0's rmse: 0.519253\n",
      "[900]\tvalid_0's rmse: 0.510018\n",
      "[1200]\tvalid_0's rmse: 0.505335\n",
      "[1500]\tvalid_0's rmse: 0.502512\n",
      "[1800]\tvalid_0's rmse: 0.501393\n",
      "[2100]\tvalid_0's rmse: 0.501516\n",
      "Early stopping, best iteration is:\n",
      "[1947]\tvalid_0's rmse: 0.501133\n",
      "\n",
      "AV metric score for the validation set is 501.13269675338745\n",
      "\n",
      "------------------ Fold 4-------------------\n",
      "Training until validation scores don't improve for 200 rounds\n",
      "[300]\tvalid_0's rmse: 0.542197\n",
      "[600]\tvalid_0's rmse: 0.517933\n",
      "[900]\tvalid_0's rmse: 0.508659\n",
      "[1200]\tvalid_0's rmse: 0.502427\n",
      "[1500]\tvalid_0's rmse: 0.499412\n",
      "[1800]\tvalid_0's rmse: 0.496145\n",
      "[2100]\tvalid_0's rmse: 0.495057\n",
      "[2400]\tvalid_0's rmse: 0.49409\n",
      "[2700]\tvalid_0's rmse: 0.493483\n",
      "[3000]\tvalid_0's rmse: 0.493482\n",
      "Early stopping, best iteration is:\n",
      "[2886]\tvalid_0's rmse: 0.493308\n",
      "\n",
      "AV metric score for the validation set is 493.307901833654\n",
      "\n",
      "------------------ Fold 5-------------------\n",
      "Training until validation scores don't improve for 200 rounds\n",
      "[300]\tvalid_0's rmse: 0.550153\n",
      "[600]\tvalid_0's rmse: 0.527449\n",
      "[900]\tvalid_0's rmse: 0.518141\n",
      "[1200]\tvalid_0's rmse: 0.513157\n",
      "[1500]\tvalid_0's rmse: 0.509524\n",
      "[1800]\tvalid_0's rmse: 0.50869\n",
      "Early stopping, best iteration is:\n",
      "[1755]\tvalid_0's rmse: 0.508413\n",
      "\n",
      "AV metric score for the validation set is 508.41301981415586\n",
      "\n",
      "Av metric score for oofs is 501.25896146488157\n"
     ]
    },
    {
     "data": {
      "image/png": "[encoded data removed]",
      "text/plain": [
       "<Figure size 864x432 with 1 Axes>"
      ]
     },
     "metadata": {},
     "output_type": "display_data"
    }
   ],
   "source": [
    "clf = LGBMRegressor(n_estimators=5000,\n",
    "                   learning_rate=0.05,\n",
    "                   colsample_bytree=0.65, # each tree will run on these percentage of features\n",
    "                   metric=\"None\",\n",
    "                   )\n",
    "\n",
    "fit_params = {\"verbose\":300,\"early_stopping_rounds\":200,\"eval_metric\":\"rmse\"}\n",
    "\n",
    "lgb_oofs,lgb_preds,lgb_fi = run_gradient_boosting(clf,fit_params,train_proc,test_proc,cat_num_cols)"
   ]
  },
  {
   "cell_type": "code",
   "execution_count": 70,
   "metadata": {},
   "outputs": [],
   "source": [
    "df[\"channel_title_mean_dislikes\"] = df.groupby(\"channel_title\")[\"dislikes\"].transform(\"mean\")\n",
    "df[\"channel_title_max_dislikes\"] = df.groupby(\"channel_title\")[\"dislikes\"].transform(\"max\")\n",
    "df[\"channel_title_min_dislikes\"] = df.groupby(\"channel_title\")[\"dislikes\"].transform(\"min\")"
   ]
  },
  {
   "cell_type": "code",
   "execution_count": 71,
   "metadata": {},
   "outputs": [],
   "source": [
    "train_proc,test_proc,features = split_df_and_get_features(df,train.shape[0])\n",
    "features = [c for c in df.columns if c not in [ID_COL,TARGET_COL]]\n",
    "cat_num_cols = [c for c in features if c not in ['title','tags','description','publish_date']] \n",
    "# Need to run this again as we have added some new features"
   ]
  },
  {
   "cell_type": "code",
   "execution_count": 72,
   "metadata": {},
   "outputs": [
    {
     "name": "stdout",
     "output_type": "stream",
     "text": [
      "\n",
      "------------------ Fold 1-------------------\n",
      "Training until validation scores don't improve for 200 rounds\n",
      "[300]\tvalid_0's rmse: 0.546949\n",
      "[600]\tvalid_0's rmse: 0.521106\n",
      "[900]\tvalid_0's rmse: 0.509216\n",
      "[1200]\tvalid_0's rmse: 0.50367\n",
      "[1500]\tvalid_0's rmse: 0.50007\n",
      "[1800]\tvalid_0's rmse: 0.49811\n",
      "[2100]\tvalid_0's rmse: 0.49671\n",
      "[2400]\tvalid_0's rmse: 0.495285\n",
      "[2700]\tvalid_0's rmse: 0.494352\n",
      "[3000]\tvalid_0's rmse: 0.493533\n",
      "[3300]\tvalid_0's rmse: 0.492926\n",
      "[3600]\tvalid_0's rmse: 0.492497\n",
      "[3900]\tvalid_0's rmse: 0.492148\n",
      "[4200]\tvalid_0's rmse: 0.491895\n",
      "[4500]\tvalid_0's rmse: 0.491586\n",
      "[4800]\tvalid_0's rmse: 0.491481\n",
      "Did not meet early stopping. Best iteration is:\n",
      "[4888]\tvalid_0's rmse: 0.491415\n",
      "\n",
      "AV metric score for the validation set is 491.415338761199\n",
      "\n",
      "------------------ Fold 2-------------------\n",
      "Training until validation scores don't improve for 200 rounds\n",
      "[300]\tvalid_0's rmse: 0.544942\n",
      "[600]\tvalid_0's rmse: 0.52206\n",
      "[900]\tvalid_0's rmse: 0.511343\n",
      "[1200]\tvalid_0's rmse: 0.505058\n",
      "[1500]\tvalid_0's rmse: 0.500922\n",
      "[1800]\tvalid_0's rmse: 0.499179\n",
      "[2100]\tvalid_0's rmse: 0.498613\n",
      "[2400]\tvalid_0's rmse: 0.497992\n",
      "[2700]\tvalid_0's rmse: 0.497458\n",
      "Early stopping, best iteration is:\n",
      "[2532]\tvalid_0's rmse: 0.497388\n",
      "\n",
      "AV metric score for the validation set is 497.387786773005\n",
      "\n",
      "------------------ Fold 3-------------------\n",
      "Training until validation scores don't improve for 200 rounds\n",
      "[300]\tvalid_0's rmse: 0.535028\n",
      "[600]\tvalid_0's rmse: 0.510958\n",
      "[900]\tvalid_0's rmse: 0.503928\n",
      "[1200]\tvalid_0's rmse: 0.498652\n",
      "[1500]\tvalid_0's rmse: 0.495741\n",
      "[1800]\tvalid_0's rmse: 0.49428\n",
      "[2100]\tvalid_0's rmse: 0.493383\n",
      "[2400]\tvalid_0's rmse: 0.492918\n",
      "[2700]\tvalid_0's rmse: 0.492808\n",
      "Early stopping, best iteration is:\n",
      "[2734]\tvalid_0's rmse: 0.492601\n",
      "\n",
      "AV metric score for the validation set is 492.6009813670796\n",
      "\n",
      "------------------ Fold 4-------------------\n",
      "Training until validation scores don't improve for 200 rounds\n",
      "[300]\tvalid_0's rmse: 0.530491\n",
      "[600]\tvalid_0's rmse: 0.507514\n",
      "[900]\tvalid_0's rmse: 0.498327\n",
      "[1200]\tvalid_0's rmse: 0.493632\n",
      "[1500]\tvalid_0's rmse: 0.490972\n",
      "[1800]\tvalid_0's rmse: 0.488864\n",
      "[2100]\tvalid_0's rmse: 0.488123\n",
      "[2400]\tvalid_0's rmse: 0.487692\n",
      "[2700]\tvalid_0's rmse: 0.487507\n",
      "Early stopping, best iteration is:\n",
      "[2517]\tvalid_0's rmse: 0.487381\n",
      "\n",
      "AV metric score for the validation set is 487.38053170933716\n",
      "\n",
      "------------------ Fold 5-------------------\n",
      "Training until validation scores don't improve for 200 rounds\n",
      "[300]\tvalid_0's rmse: 0.538524\n",
      "[600]\tvalid_0's rmse: 0.518011\n",
      "[900]\tvalid_0's rmse: 0.510325\n",
      "[1200]\tvalid_0's rmse: 0.50563\n",
      "[1500]\tvalid_0's rmse: 0.502707\n",
      "[1800]\tvalid_0's rmse: 0.50064\n",
      "[2100]\tvalid_0's rmse: 0.499083\n",
      "[2400]\tvalid_0's rmse: 0.498475\n",
      "[2700]\tvalid_0's rmse: 0.497412\n",
      "Early stopping, best iteration is:\n",
      "[2748]\tvalid_0's rmse: 0.497173\n",
      "\n",
      "AV metric score for the validation set is 497.172561439941\n",
      "\n",
      "Av metric score for oofs is 493.20571220445555\n"
     ]
    },
    {
     "data": {
      "image/png": "[encoded data removed]",
      "text/plain": [
       "<Figure size 864x432 with 1 Axes>"
      ]
     },
     "metadata": {},
     "output_type": "display_data"
    }
   ],
   "source": [
    "clf = LGBMRegressor(n_estimators=5000,\n",
    "                   learning_rate=0.05,\n",
    "                   colsample_bytree=0.65, # each tree will run on these percentage of features\n",
    "                   metric=\"None\",\n",
    "                   )\n",
    "\n",
    "fit_params = {\"verbose\":300,\"early_stopping_rounds\":200,\"eval_metric\":\"rmse\"}\n",
    "\n",
    "lgb_oofs,lgb_preds,lgb_fi = run_gradient_boosting(clf,fit_params,train_proc,test_proc,cat_num_cols)"
   ]
  },
  {
   "cell_type": "markdown",
   "metadata": {},
   "source": [
    "### Feature engineering for text data"
   ]
  },
  {
   "cell_type": "markdown",
   "metadata": {},
   "source": [
    "#### Length of text columns"
   ]
  },
  {
   "cell_type": "code",
   "execution_count": 73,
   "metadata": {},
   "outputs": [],
   "source": [
    "df[\"title_len\"] = df[\"title\"].apply(lambda x:len(x))\n",
    "df[\"tags_len\"] = df[\"tags\"].apply(lambda x:len(x))\n",
    "df[\"description_len\"] = df[\"description\"].apply(lambda x:len(x))"
   ]
  },
  {
   "cell_type": "code",
   "execution_count": 74,
   "metadata": {},
   "outputs": [],
   "source": [
    "train_proc,test_proc,features = split_df_and_get_features(df,train.shape[0])\n",
    "features = [c for c in df.columns if c not in [ID_COL,TARGET_COL]]\n",
    "cat_num_cols = [c for c in features if c not in ['title','tags','description','publish_date']] \n",
    "# Need to run this again as we have added some new features"
   ]
  },
  {
   "cell_type": "code",
   "execution_count": 75,
   "metadata": {
    "scrolled": true
   },
   "outputs": [
    {
     "name": "stdout",
     "output_type": "stream",
     "text": [
      "\n",
      "------------------ Fold 1-------------------\n",
      "Training until validation scores don't improve for 200 rounds\n",
      "[300]\tvalid_0's rmse: 0.542502\n",
      "[600]\tvalid_0's rmse: 0.514636\n",
      "[900]\tvalid_0's rmse: 0.503791\n",
      "[1200]\tvalid_0's rmse: 0.497321\n",
      "[1500]\tvalid_0's rmse: 0.493791\n",
      "[1800]\tvalid_0's rmse: 0.491424\n",
      "[2100]\tvalid_0's rmse: 0.489414\n",
      "[2400]\tvalid_0's rmse: 0.488533\n",
      "[2700]\tvalid_0's rmse: 0.487161\n",
      "[3000]\tvalid_0's rmse: 0.486284\n",
      "[3300]\tvalid_0's rmse: 0.485686\n",
      "[3600]\tvalid_0's rmse: 0.485014\n",
      "[3900]\tvalid_0's rmse: 0.484493\n",
      "[4200]\tvalid_0's rmse: 0.484322\n",
      "[4500]\tvalid_0's rmse: 0.484004\n",
      "[4800]\tvalid_0's rmse: 0.48376\n",
      "Early stopping, best iteration is:\n",
      "[4791]\tvalid_0's rmse: 0.483734\n",
      "\n",
      "AV metric score for the validation set is 483.73370236887837\n",
      "\n",
      "------------------ Fold 2-------------------\n",
      "Training until validation scores don't improve for 200 rounds\n",
      "[300]\tvalid_0's rmse: 0.538923\n",
      "[600]\tvalid_0's rmse: 0.513022\n",
      "[900]\tvalid_0's rmse: 0.502915\n",
      "[1200]\tvalid_0's rmse: 0.497355\n",
      "[1500]\tvalid_0's rmse: 0.493635\n",
      "[1800]\tvalid_0's rmse: 0.491305\n",
      "[2100]\tvalid_0's rmse: 0.489654\n",
      "[2400]\tvalid_0's rmse: 0.488256\n",
      "[2700]\tvalid_0's rmse: 0.487085\n",
      "[3000]\tvalid_0's rmse: 0.486334\n",
      "[3300]\tvalid_0's rmse: 0.485777\n",
      "[3600]\tvalid_0's rmse: 0.485455\n",
      "Early stopping, best iteration is:\n",
      "[3475]\tvalid_0's rmse: 0.485349\n",
      "\n",
      "AV metric score for the validation set is 485.34937680697\n",
      "\n",
      "------------------ Fold 3-------------------\n",
      "Training until validation scores don't improve for 200 rounds\n",
      "[300]\tvalid_0's rmse: 0.52712\n",
      "[600]\tvalid_0's rmse: 0.503349\n",
      "[900]\tvalid_0's rmse: 0.492109\n",
      "[1200]\tvalid_0's rmse: 0.487198\n",
      "[1500]\tvalid_0's rmse: 0.483904\n",
      "[1800]\tvalid_0's rmse: 0.48245\n",
      "[2100]\tvalid_0's rmse: 0.481567\n",
      "[2400]\tvalid_0's rmse: 0.480266\n",
      "[2700]\tvalid_0's rmse: 0.479883\n",
      "Early stopping, best iteration is:\n",
      "[2665]\tvalid_0's rmse: 0.479747\n",
      "\n",
      "AV metric score for the validation set is 479.74712651383794\n",
      "\n",
      "------------------ Fold 4-------------------\n",
      "Training until validation scores don't improve for 200 rounds\n",
      "[300]\tvalid_0's rmse: 0.524993\n",
      "[600]\tvalid_0's rmse: 0.498515\n",
      "[900]\tvalid_0's rmse: 0.487852\n",
      "[1200]\tvalid_0's rmse: 0.483859\n",
      "[1500]\tvalid_0's rmse: 0.48145\n",
      "[1800]\tvalid_0's rmse: 0.479782\n",
      "[2100]\tvalid_0's rmse: 0.478246\n",
      "[2400]\tvalid_0's rmse: 0.477125\n",
      "[2700]\tvalid_0's rmse: 0.476294\n",
      "[3000]\tvalid_0's rmse: 0.475518\n",
      "Early stopping, best iteration is:\n",
      "[3006]\tvalid_0's rmse: 0.475451\n",
      "\n",
      "AV metric score for the validation set is 475.4514072255934\n",
      "\n",
      "------------------ Fold 5-------------------\n",
      "Training until validation scores don't improve for 200 rounds\n",
      "[300]\tvalid_0's rmse: 0.535372\n",
      "[600]\tvalid_0's rmse: 0.513139\n",
      "[900]\tvalid_0's rmse: 0.50469\n",
      "[1200]\tvalid_0's rmse: 0.499715\n",
      "[1500]\tvalid_0's rmse: 0.496034\n",
      "[1800]\tvalid_0's rmse: 0.494995\n",
      "[2100]\tvalid_0's rmse: 0.493966\n",
      "[2400]\tvalid_0's rmse: 0.493448\n",
      "[2700]\tvalid_0's rmse: 0.492764\n",
      "[3000]\tvalid_0's rmse: 0.492172\n",
      "[3300]\tvalid_0's rmse: 0.491959\n",
      "Early stopping, best iteration is:\n",
      "[3218]\tvalid_0's rmse: 0.491919\n",
      "\n",
      "AV metric score for the validation set is 491.91895333947224\n",
      "\n",
      "Av metric score for oofs is 483.271766352047\n"
     ]
    },
    {
     "data": {
      "image/png": "[encoded data removed]",
      "text/plain": [
       "<Figure size 864x432 with 1 Axes>"
      ]
     },
     "metadata": {},
     "output_type": "display_data"
    }
   ],
   "source": [
    "clf = LGBMRegressor(n_estimators=5000,\n",
    "                   learning_rate=0.05,\n",
    "                   colsample_bytree=0.65, # each tree will run on these percentage of features\n",
    "                   metric=\"None\",\n",
    "                   )\n",
    "\n",
    "fit_params = {\"verbose\":300,\"early_stopping_rounds\":200,\"eval_metric\":\"rmse\"}\n",
    "\n",
    "lgb_oofs,lgb_preds,lgb_fi = run_gradient_boosting(clf,fit_params,train_proc,test_proc,cat_num_cols)"
   ]
  },
  {
   "cell_type": "markdown",
   "metadata": {},
   "source": [
    "#### Bag of words for text based features"
   ]
  },
  {
   "cell_type": "code",
   "execution_count": 76,
   "metadata": {},
   "outputs": [],
   "source": [
    "from sklearn.feature_extraction.text import CountVectorizer\n",
    "?CountVectorizer"
   ]
  },
  {
   "cell_type": "code",
   "execution_count": 77,
   "metadata": {},
   "outputs": [
    {
     "data": {
      "text/plain": [
       "(37231, 50)"
      ]
     },
     "execution_count": 77,
     "metadata": {},
     "output_type": "execute_result"
    }
   ],
   "source": [
    "TOP_N_WORDS = 50\n",
    "\n",
    "vec = CountVectorizer(max_features=TOP_N_WORDS)\n",
    "txt_to_fts = vec.fit_transform(df[\"description\"]).toarray()\n",
    "txt_to_fts.shape"
   ]
  },
  {
   "cell_type": "code",
   "execution_count": 78,
   "metadata": {},
   "outputs": [],
   "source": [
    "c = \"description\"\n",
    "txt_fts_names = [c+f\"_word_count_{i}_count\" for i in range(TOP_N_WORDS)]\n",
    "df[txt_fts_names]=txt_to_fts"
   ]
  },
  {
   "cell_type": "code",
   "execution_count": 79,
   "metadata": {},
   "outputs": [],
   "source": [
    "train_proc,test_proc,features = split_df_and_get_features(df,train.shape[0])\n",
    "features = [c for c in df.columns if c not in [ID_COL,TARGET_COL]]\n",
    "cat_num_cols = [c for c in features if c not in ['title','tags','description','publish_date']] \n",
    "# Need to run this again as we have added some new features"
   ]
  },
  {
   "cell_type": "code",
   "execution_count": 80,
   "metadata": {},
   "outputs": [
    {
     "name": "stdout",
     "output_type": "stream",
     "text": [
      "\n",
      "------------------ Fold 1-------------------\n",
      "Training until validation scores don't improve for 200 rounds\n",
      "[300]\tvalid_0's rmse: 0.531434\n",
      "[600]\tvalid_0's rmse: 0.510703\n",
      "[900]\tvalid_0's rmse: 0.500407\n",
      "[1200]\tvalid_0's rmse: 0.493069\n",
      "[1500]\tvalid_0's rmse: 0.488031\n",
      "[1800]\tvalid_0's rmse: 0.485208\n",
      "[2100]\tvalid_0's rmse: 0.483836\n",
      "[2400]\tvalid_0's rmse: 0.482301\n",
      "[2700]\tvalid_0's rmse: 0.481769\n",
      "[3000]\tvalid_0's rmse: 0.481059\n",
      "[3300]\tvalid_0's rmse: 0.480316\n",
      "[3600]\tvalid_0's rmse: 0.480119\n",
      "[3900]\tvalid_0's rmse: 0.479584\n",
      "[4200]\tvalid_0's rmse: 0.479488\n",
      "[4500]\tvalid_0's rmse: 0.479479\n",
      "Early stopping, best iteration is:\n",
      "[4382]\tvalid_0's rmse: 0.479381\n",
      "\n",
      "AV metric score for the validation set is 479.38061019651155\n",
      "\n",
      "------------------ Fold 2-------------------\n",
      "Training until validation scores don't improve for 200 rounds\n",
      "[300]\tvalid_0's rmse: 0.528342\n",
      "[600]\tvalid_0's rmse: 0.508307\n",
      "[900]\tvalid_0's rmse: 0.498233\n",
      "[1200]\tvalid_0's rmse: 0.492808\n",
      "[1500]\tvalid_0's rmse: 0.489716\n",
      "[1800]\tvalid_0's rmse: 0.487446\n",
      "[2100]\tvalid_0's rmse: 0.485692\n",
      "[2400]\tvalid_0's rmse: 0.484751\n",
      "[2700]\tvalid_0's rmse: 0.484312\n",
      "[3000]\tvalid_0's rmse: 0.483662\n",
      "[3300]\tvalid_0's rmse: 0.483105\n",
      "[3600]\tvalid_0's rmse: 0.482876\n",
      "[3900]\tvalid_0's rmse: 0.482681\n",
      "[4200]\tvalid_0's rmse: 0.482412\n",
      "[4500]\tvalid_0's rmse: 0.482381\n",
      "[4800]\tvalid_0's rmse: 0.482155\n",
      "Did not meet early stopping. Best iteration is:\n",
      "[4899]\tvalid_0's rmse: 0.481964\n",
      "\n",
      "AV metric score for the validation set is 481.9636845503002\n",
      "\n",
      "------------------ Fold 3-------------------\n",
      "Training until validation scores don't improve for 200 rounds\n",
      "[300]\tvalid_0's rmse: 0.518468\n",
      "[600]\tvalid_0's rmse: 0.496777\n",
      "[900]\tvalid_0's rmse: 0.487774\n",
      "[1200]\tvalid_0's rmse: 0.483207\n",
      "[1500]\tvalid_0's rmse: 0.479577\n",
      "[1800]\tvalid_0's rmse: 0.477333\n",
      "[2100]\tvalid_0's rmse: 0.475979\n",
      "[2400]\tvalid_0's rmse: 0.475257\n",
      "[2700]\tvalid_0's rmse: 0.474465\n",
      "[3000]\tvalid_0's rmse: 0.473739\n",
      "Early stopping, best iteration is:\n",
      "[3038]\tvalid_0's rmse: 0.473648\n",
      "\n",
      "AV metric score for the validation set is 473.64848591317923\n",
      "\n",
      "------------------ Fold 4-------------------\n",
      "Training until validation scores don't improve for 200 rounds\n",
      "[300]\tvalid_0's rmse: 0.514952\n",
      "[600]\tvalid_0's rmse: 0.492302\n",
      "[900]\tvalid_0's rmse: 0.483467\n",
      "[1200]\tvalid_0's rmse: 0.47735\n",
      "[1500]\tvalid_0's rmse: 0.474086\n",
      "[1800]\tvalid_0's rmse: 0.472407\n",
      "[2100]\tvalid_0's rmse: 0.470617\n",
      "[2400]\tvalid_0's rmse: 0.469674\n",
      "[2700]\tvalid_0's rmse: 0.46913\n",
      "[3000]\tvalid_0's rmse: 0.468611\n",
      "Early stopping, best iteration is:\n",
      "[3034]\tvalid_0's rmse: 0.468482\n",
      "\n",
      "AV metric score for the validation set is 468.48239443702215\n",
      "\n",
      "------------------ Fold 5-------------------\n",
      "Training until validation scores don't improve for 200 rounds\n",
      "[300]\tvalid_0's rmse: 0.524471\n",
      "[600]\tvalid_0's rmse: 0.503287\n",
      "[900]\tvalid_0's rmse: 0.493742\n",
      "[1200]\tvalid_0's rmse: 0.488665\n",
      "[1500]\tvalid_0's rmse: 0.485424\n",
      "[1800]\tvalid_0's rmse: 0.483993\n",
      "[2100]\tvalid_0's rmse: 0.482539\n",
      "[2400]\tvalid_0's rmse: 0.481686\n",
      "[2700]\tvalid_0's rmse: 0.480836\n",
      "Early stopping, best iteration is:\n",
      "[2700]\tvalid_0's rmse: 0.480836\n",
      "\n",
      "AV metric score for the validation set is 480.83619492889835\n",
      "\n",
      "Av metric score for oofs is 476.8893599563711\n"
     ]
    },
    {
     "data": {
      "image/png": "[encoded data removed]",
      "text/plain": [
       "<Figure size 864x432 with 1 Axes>"
      ]
     },
     "metadata": {},
     "output_type": "display_data"
    }
   ],
   "source": [
    "clf = LGBMRegressor(n_estimators=5000,\n",
    "                   learning_rate=0.05,\n",
    "                   colsample_bytree=0.65, # each tree will run on these percentage of features\n",
    "                   metric=\"None\",\n",
    "                   )\n",
    "\n",
    "fit_params = {\"verbose\":300,\"early_stopping_rounds\":200,\"eval_metric\":\"rmse\"}\n",
    "\n",
    "lgb_oofs,lgb_preds,lgb_fi = run_gradient_boosting(clf,fit_params,train_proc,test_proc,cat_num_cols)"
   ]
  },
  {
   "cell_type": "code",
   "execution_count": 81,
   "metadata": {},
   "outputs": [],
   "source": [
    "lgb_preds_t = np.expm1(lgb_preds)"
   ]
  },
  {
   "cell_type": "code",
   "execution_count": 83,
   "metadata": {},
   "outputs": [
    {
     "data": {
      "text/plain": [
       "(11170,)"
      ]
     },
     "execution_count": 83,
     "metadata": {},
     "output_type": "execute_result"
    }
   ],
   "source": [
    "lgb_preds_t.shape"
   ]
  },
  {
   "cell_type": "code",
   "execution_count": 84,
   "metadata": {},
   "outputs": [],
   "source": [
    "dataframe_test = pd.DataFrame(data = lgb_preds_t,columns=[\"likes\"])"
   ]
  },
  {
   "cell_type": "code",
   "execution_count": 85,
   "metadata": {},
   "outputs": [
    {
     "data": {
      "text/html": [
       "<div>\n",
       "<style scoped>\n",
       "    .dataframe tbody tr th:only-of-type {\n",
       "        vertical-align: middle;\n",
       "    }\n",
       "\n",
       "    .dataframe tbody tr th {\n",
       "        vertical-align: top;\n",
       "    }\n",
       "\n",
       "    .dataframe thead th {\n",
       "        text-align: right;\n",
       "    }\n",
       "</style>\n",
       "<table border=\"1\" class=\"dataframe\">\n",
       "  <thead>\n",
       "    <tr style=\"text-align: right;\">\n",
       "      <th></th>\n",
       "      <th>likes</th>\n",
       "    </tr>\n",
       "  </thead>\n",
       "  <tbody>\n",
       "    <tr>\n",
       "      <th>0</th>\n",
       "      <td>750.529528</td>\n",
       "    </tr>\n",
       "    <tr>\n",
       "      <th>1</th>\n",
       "      <td>2442.720650</td>\n",
       "    </tr>\n",
       "    <tr>\n",
       "      <th>2</th>\n",
       "      <td>41.791873</td>\n",
       "    </tr>\n",
       "    <tr>\n",
       "      <th>3</th>\n",
       "      <td>2934.659221</td>\n",
       "    </tr>\n",
       "    <tr>\n",
       "      <th>4</th>\n",
       "      <td>578.011344</td>\n",
       "    </tr>\n",
       "    <tr>\n",
       "      <th>...</th>\n",
       "      <td>...</td>\n",
       "    </tr>\n",
       "    <tr>\n",
       "      <th>11165</th>\n",
       "      <td>1543.848964</td>\n",
       "    </tr>\n",
       "    <tr>\n",
       "      <th>11166</th>\n",
       "      <td>2188.130909</td>\n",
       "    </tr>\n",
       "    <tr>\n",
       "      <th>11167</th>\n",
       "      <td>7955.594274</td>\n",
       "    </tr>\n",
       "    <tr>\n",
       "      <th>11168</th>\n",
       "      <td>5284.757517</td>\n",
       "    </tr>\n",
       "    <tr>\n",
       "      <th>11169</th>\n",
       "      <td>3113.832818</td>\n",
       "    </tr>\n",
       "  </tbody>\n",
       "</table>\n",
       "<p>11170 rows × 1 columns</p>\n",
       "</div>"
      ],
      "text/plain": [
       "             likes\n",
       "0       750.529528\n",
       "1      2442.720650\n",
       "2        41.791873\n",
       "3      2934.659221\n",
       "4       578.011344\n",
       "...            ...\n",
       "11165  1543.848964\n",
       "11166  2188.130909\n",
       "11167  7955.594274\n",
       "11168  5284.757517\n",
       "11169  3113.832818\n",
       "\n",
       "[11170 rows x 1 columns]"
      ]
     },
     "execution_count": 85,
     "metadata": {},
     "output_type": "execute_result"
    }
   ],
   "source": [
    "dataframe_test"
   ]
  },
  {
   "cell_type": "code",
   "execution_count": 86,
   "metadata": {},
   "outputs": [],
   "source": [
    "ss = pd.read_csv(\"sample_submission.csv\")"
   ]
  },
  {
   "cell_type": "code",
   "execution_count": 87,
   "metadata": {},
   "outputs": [],
   "source": [
    "ss[\"likes\"] = lgb_preds_t"
   ]
  },
  {
   "cell_type": "code",
   "execution_count": 88,
   "metadata": {},
   "outputs": [
    {
     "data": {
      "text/html": [
       "<div>\n",
       "<style scoped>\n",
       "    .dataframe tbody tr th:only-of-type {\n",
       "        vertical-align: middle;\n",
       "    }\n",
       "\n",
       "    .dataframe tbody tr th {\n",
       "        vertical-align: top;\n",
       "    }\n",
       "\n",
       "    .dataframe thead th {\n",
       "        text-align: right;\n",
       "    }\n",
       "</style>\n",
       "<table border=\"1\" class=\"dataframe\">\n",
       "  <thead>\n",
       "    <tr style=\"text-align: right;\">\n",
       "      <th></th>\n",
       "      <th>video_id</th>\n",
       "      <th>likes</th>\n",
       "    </tr>\n",
       "  </thead>\n",
       "  <tbody>\n",
       "    <tr>\n",
       "      <th>0</th>\n",
       "      <td>87185</td>\n",
       "      <td>750.529528</td>\n",
       "    </tr>\n",
       "    <tr>\n",
       "      <th>1</th>\n",
       "      <td>9431</td>\n",
       "      <td>2442.720650</td>\n",
       "    </tr>\n",
       "    <tr>\n",
       "      <th>2</th>\n",
       "      <td>40599</td>\n",
       "      <td>41.791873</td>\n",
       "    </tr>\n",
       "    <tr>\n",
       "      <th>3</th>\n",
       "      <td>494</td>\n",
       "      <td>2934.659221</td>\n",
       "    </tr>\n",
       "    <tr>\n",
       "      <th>4</th>\n",
       "      <td>73942</td>\n",
       "      <td>578.011344</td>\n",
       "    </tr>\n",
       "  </tbody>\n",
       "</table>\n",
       "</div>"
      ],
      "text/plain": [
       "   video_id        likes\n",
       "0     87185   750.529528\n",
       "1      9431  2442.720650\n",
       "2     40599    41.791873\n",
       "3       494  2934.659221\n",
       "4     73942   578.011344"
      ]
     },
     "execution_count": 88,
     "metadata": {},
     "output_type": "execute_result"
    }
   ],
   "source": [
    "ss.head()"
   ]
  },
  {
   "cell_type": "code",
   "execution_count": 89,
   "metadata": {},
   "outputs": [],
   "source": [
    "ss.to_csv(\"solution.csv\",index=False)"
   ]
  },
  {
   "cell_type": "code",
   "execution_count": null,
   "metadata": {},
   "outputs": [],
   "source": []
  }
 ],
 "metadata": {
  "kernelspec": {
   "display_name": "Python 3",
   "language": "python",
   "name": "python3"
  },
  "language_info": {
   "codemirror_mode": {
    "name": "ipython",
    "version": 3
   },
   "file_extension": ".py",
   "mimetype": "text/x-python",
   "name": "python",
   "nbconvert_exporter": "python",
   "pygments_lexer": "ipython3",
   "version": "3.8.5"
  }
 },
 "nbformat": 4,
 "nbformat_minor": 2
}
